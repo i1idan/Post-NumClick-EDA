{
  "nbformat": 4,
  "nbformat_minor": 0,
  "metadata": {
    "colab": {
      "name": "EDA_DATA2.ipynb",
      "provenance": [],
      "collapsed_sections": []
    },
    "kernelspec": {
      "name": "python3",
      "display_name": "Python 3"
    },
    "language_info": {
      "name": "python"
    }
  },
  "cells": [
    {
      "cell_type": "markdown",
      "metadata": {
        "id": "kylE0MRahc_U"
      },
      "source": [
        "**Load And Preprocess The Data**"
      ]
    },
    {
      "cell_type": "code",
      "metadata": {
        "colab": {
          "base_uri": "https://localhost:8080/"
        },
        "id": "avVZEuqYx2PN",
        "outputId": "c70a1dee-3737-4fc6-e2e2-d86df0c417f5"
      },
      "source": [
        "%cd /content/drive/MyDrive/data\n",
        "!ls"
      ],
      "execution_count": 105,
      "outputs": [
        {
          "output_type": "stream",
          "text": [
            "/content/drive/MyDrive/data\n",
            "clickposts_data.csv  final_df.csv  reorders_data.csv\n"
          ],
          "name": "stdout"
        }
      ]
    },
    {
      "cell_type": "code",
      "metadata": {
        "colab": {
          "base_uri": "https://localhost:8080/"
        },
        "id": "Jf--CZN8yRbg",
        "outputId": "8b9ebe2d-16f6-4f78-b778-90588d435e75"
      },
      "source": [
        "import pandas as pd\n",
        "\n",
        "#read data\n",
        "clickpost = pd.read_csv(\"clickposts_data.csv\")\n",
        "reorders = pd.read_csv(\"reorders_data.csv\")\n",
        "#drop null column\n",
        "clickpost = clickpost.drop(columns=['Unnamed: 0']).reset_index()\n",
        "reorders = reorders.drop(columns=['Unnamed: 0']).reset_index()\n",
        "\n",
        "\n",
        "print(clickpost.shape)\n",
        "print(reorders.shape)"
      ],
      "execution_count": 106,
      "outputs": [
        {
          "output_type": "stream",
          "text": [
            "(743125, 4)\n",
            "(10909, 6)\n"
          ],
          "name": "stdout"
        }
      ]
    },
    {
      "cell_type": "code",
      "metadata": {
        "colab": {
          "base_uri": "https://localhost:8080/"
        },
        "id": "w3SxCkF4UcPE",
        "outputId": "f3dd9c5d-7b22-49bd-dda0-5d677d69a090"
      },
      "source": [
        "import numpy as np\n",
        "\n",
        "np.unique(reorders['tag'])"
      ],
      "execution_count": 107,
      "outputs": [
        {
          "output_type": "execute_result",
          "data": {
            "text/plain": [
              "array(['reorder', 'urgent-reorder'], dtype=object)"
            ]
          },
          "metadata": {
            "tags": []
          },
          "execution_count": 107
        }
      ]
    },
    {
      "cell_type": "code",
      "metadata": {
        "colab": {
          "base_uri": "https://localhost:8080/"
        },
        "id": "kLwUg7S_yvhv",
        "outputId": "5311d11c-93aa-4440-dd70-c5da994af771"
      },
      "source": [
        "clickpost.columns"
      ],
      "execution_count": 108,
      "outputs": [
        {
          "output_type": "execute_result",
          "data": {
            "text/plain": [
              "Index(['index', 'post_id', 'click_time', 'click_post_count'], dtype='object')"
            ]
          },
          "metadata": {
            "tags": []
          },
          "execution_count": 108
        }
      ]
    },
    {
      "cell_type": "code",
      "metadata": {
        "colab": {
          "base_uri": "https://localhost:8080/",
          "height": 206
        },
        "id": "VDAQ5KO6y5Cf",
        "outputId": "676fa5be-2943-4f3e-a798-c04054fa95c2"
      },
      "source": [
        "clickpost.head(5)"
      ],
      "execution_count": 109,
      "outputs": [
        {
          "output_type": "execute_result",
          "data": {
            "text/html": [
              "<div>\n",
              "<style scoped>\n",
              "    .dataframe tbody tr th:only-of-type {\n",
              "        vertical-align: middle;\n",
              "    }\n",
              "\n",
              "    .dataframe tbody tr th {\n",
              "        vertical-align: top;\n",
              "    }\n",
              "\n",
              "    .dataframe thead th {\n",
              "        text-align: right;\n",
              "    }\n",
              "</style>\n",
              "<table border=\"1\" class=\"dataframe\">\n",
              "  <thead>\n",
              "    <tr style=\"text-align: right;\">\n",
              "      <th></th>\n",
              "      <th>index</th>\n",
              "      <th>post_id</th>\n",
              "      <th>click_time</th>\n",
              "      <th>click_post_count</th>\n",
              "    </tr>\n",
              "  </thead>\n",
              "  <tbody>\n",
              "    <tr>\n",
              "      <th>0</th>\n",
              "      <td>0</td>\n",
              "      <td>gXvC9ucx</td>\n",
              "      <td>5/7/2020 0:00</td>\n",
              "      <td>31</td>\n",
              "    </tr>\n",
              "    <tr>\n",
              "      <th>1</th>\n",
              "      <td>1</td>\n",
              "      <td>gXluVlHC</td>\n",
              "      <td>5/7/2020 0:00</td>\n",
              "      <td>19</td>\n",
              "    </tr>\n",
              "    <tr>\n",
              "      <th>2</th>\n",
              "      <td>2</td>\n",
              "      <td>gXxugqam</td>\n",
              "      <td>5/7/2020 0:00</td>\n",
              "      <td>13</td>\n",
              "    </tr>\n",
              "    <tr>\n",
              "      <th>3</th>\n",
              "      <td>3</td>\n",
              "      <td>gXy6Jn2Y</td>\n",
              "      <td>5/7/2020 0:00</td>\n",
              "      <td>14</td>\n",
              "    </tr>\n",
              "    <tr>\n",
              "      <th>4</th>\n",
              "      <td>4</td>\n",
              "      <td>gXo2A5D9</td>\n",
              "      <td>5/7/2020 0:00</td>\n",
              "      <td>38</td>\n",
              "    </tr>\n",
              "  </tbody>\n",
              "</table>\n",
              "</div>"
            ],
            "text/plain": [
              "   index   post_id     click_time  click_post_count\n",
              "0      0  gXvC9ucx  5/7/2020 0:00                31\n",
              "1      1  gXluVlHC  5/7/2020 0:00                19\n",
              "2      2  gXxugqam  5/7/2020 0:00                13\n",
              "3      3  gXy6Jn2Y  5/7/2020 0:00                14\n",
              "4      4  gXo2A5D9  5/7/2020 0:00                38"
            ]
          },
          "metadata": {
            "tags": []
          },
          "execution_count": 109
        }
      ]
    },
    {
      "cell_type": "code",
      "metadata": {
        "colab": {
          "base_uri": "https://localhost:8080/"
        },
        "id": "DdNZ6L-OyyMx",
        "outputId": "b22eda90-ff63-43e6-e5ad-e2609ab4c486"
      },
      "source": [
        "reorders.columns"
      ],
      "execution_count": 110,
      "outputs": [
        {
          "output_type": "execute_result",
          "data": {
            "text/plain": [
              "Index(['index', 'post_id', 'tag', 'reorder_time', 'post_publish_time',\n",
              "       'post_retire_time'],\n",
              "      dtype='object')"
            ]
          },
          "metadata": {
            "tags": []
          },
          "execution_count": 110
        }
      ]
    },
    {
      "cell_type": "code",
      "metadata": {
        "colab": {
          "base_uri": "https://localhost:8080/",
          "height": 206
        },
        "id": "KSHyqKtLy6kQ",
        "outputId": "f4282834-fae5-4280-f06f-572f43f0a708"
      },
      "source": [
        "reorders.head(5)"
      ],
      "execution_count": 111,
      "outputs": [
        {
          "output_type": "execute_result",
          "data": {
            "text/html": [
              "<div>\n",
              "<style scoped>\n",
              "    .dataframe tbody tr th:only-of-type {\n",
              "        vertical-align: middle;\n",
              "    }\n",
              "\n",
              "    .dataframe tbody tr th {\n",
              "        vertical-align: top;\n",
              "    }\n",
              "\n",
              "    .dataframe thead th {\n",
              "        text-align: right;\n",
              "    }\n",
              "</style>\n",
              "<table border=\"1\" class=\"dataframe\">\n",
              "  <thead>\n",
              "    <tr style=\"text-align: right;\">\n",
              "      <th></th>\n",
              "      <th>index</th>\n",
              "      <th>post_id</th>\n",
              "      <th>tag</th>\n",
              "      <th>reorder_time</th>\n",
              "      <th>post_publish_time</th>\n",
              "      <th>post_retire_time</th>\n",
              "    </tr>\n",
              "  </thead>\n",
              "  <tbody>\n",
              "    <tr>\n",
              "      <th>0</th>\n",
              "      <td>0</td>\n",
              "      <td>gX1-5MmB</td>\n",
              "      <td>reorder</td>\n",
              "      <td>5/9/2020 10:00</td>\n",
              "      <td>5/8/2020 22:44</td>\n",
              "      <td>5/11/2020 14:12</td>\n",
              "    </tr>\n",
              "    <tr>\n",
              "      <th>1</th>\n",
              "      <td>1</td>\n",
              "      <td>gX1-WPeh</td>\n",
              "      <td>urgent-reorder</td>\n",
              "      <td>5/9/2020 20:39</td>\n",
              "      <td>5/8/2020 19:14</td>\n",
              "      <td>5/13/2020 19:07</td>\n",
              "    </tr>\n",
              "    <tr>\n",
              "      <th>2</th>\n",
              "      <td>2</td>\n",
              "      <td>gX1eSoEn</td>\n",
              "      <td>reorder</td>\n",
              "      <td>5/9/2020 12:48</td>\n",
              "      <td>5/8/2020 14:14</td>\n",
              "      <td>5/9/2020 12:52</td>\n",
              "    </tr>\n",
              "    <tr>\n",
              "      <th>3</th>\n",
              "      <td>3</td>\n",
              "      <td>gXkaGKA_</td>\n",
              "      <td>reorder</td>\n",
              "      <td>5/3/2020 13:24</td>\n",
              "      <td>4/25/2020 21:07</td>\n",
              "      <td>5/10/2020 12:35</td>\n",
              "    </tr>\n",
              "    <tr>\n",
              "      <th>4</th>\n",
              "      <td>4</td>\n",
              "      <td>gXkaGKA_</td>\n",
              "      <td>reorder</td>\n",
              "      <td>5/2/2020 11:08</td>\n",
              "      <td>4/25/2020 21:07</td>\n",
              "      <td>5/10/2020 12:35</td>\n",
              "    </tr>\n",
              "  </tbody>\n",
              "</table>\n",
              "</div>"
            ],
            "text/plain": [
              "   index   post_id  ... post_publish_time post_retire_time\n",
              "0      0  gX1-5MmB  ...    5/8/2020 22:44  5/11/2020 14:12\n",
              "1      1  gX1-WPeh  ...    5/8/2020 19:14  5/13/2020 19:07\n",
              "2      2  gX1eSoEn  ...    5/8/2020 14:14   5/9/2020 12:52\n",
              "3      3  gXkaGKA_  ...   4/25/2020 21:07  5/10/2020 12:35\n",
              "4      4  gXkaGKA_  ...   4/25/2020 21:07  5/10/2020 12:35\n",
              "\n",
              "[5 rows x 6 columns]"
            ]
          },
          "metadata": {
            "tags": []
          },
          "execution_count": 111
        }
      ]
    },
    {
      "cell_type": "code",
      "metadata": {
        "colab": {
          "base_uri": "https://localhost:8080/",
          "height": 834
        },
        "id": "RNHYpGTm1MKQ",
        "outputId": "3451535b-72ab-48b3-f63d-2ae42fc81c14"
      },
      "source": [
        "df = pd.merge(clickpost, reorders, on='post_id',  how='outer')\n",
        "df.head(25)"
      ],
      "execution_count": 112,
      "outputs": [
        {
          "output_type": "execute_result",
          "data": {
            "text/html": [
              "<div>\n",
              "<style scoped>\n",
              "    .dataframe tbody tr th:only-of-type {\n",
              "        vertical-align: middle;\n",
              "    }\n",
              "\n",
              "    .dataframe tbody tr th {\n",
              "        vertical-align: top;\n",
              "    }\n",
              "\n",
              "    .dataframe thead th {\n",
              "        text-align: right;\n",
              "    }\n",
              "</style>\n",
              "<table border=\"1\" class=\"dataframe\">\n",
              "  <thead>\n",
              "    <tr style=\"text-align: right;\">\n",
              "      <th></th>\n",
              "      <th>index_x</th>\n",
              "      <th>post_id</th>\n",
              "      <th>click_time</th>\n",
              "      <th>click_post_count</th>\n",
              "      <th>index_y</th>\n",
              "      <th>tag</th>\n",
              "      <th>reorder_time</th>\n",
              "      <th>post_publish_time</th>\n",
              "      <th>post_retire_time</th>\n",
              "    </tr>\n",
              "  </thead>\n",
              "  <tbody>\n",
              "    <tr>\n",
              "      <th>0</th>\n",
              "      <td>0</td>\n",
              "      <td>gXvC9ucx</td>\n",
              "      <td>5/7/2020 0:00</td>\n",
              "      <td>31</td>\n",
              "      <td>3101</td>\n",
              "      <td>urgent-reorder</td>\n",
              "      <td>5/5/2020 12:30</td>\n",
              "      <td>5/4/2020 12:53</td>\n",
              "      <td>5/7/2020 0:56</td>\n",
              "    </tr>\n",
              "    <tr>\n",
              "      <th>1</th>\n",
              "      <td>31236</td>\n",
              "      <td>gXvC9ucx</td>\n",
              "      <td>5/5/2020 4:00</td>\n",
              "      <td>5</td>\n",
              "      <td>3101</td>\n",
              "      <td>urgent-reorder</td>\n",
              "      <td>5/5/2020 12:30</td>\n",
              "      <td>5/4/2020 12:53</td>\n",
              "      <td>5/7/2020 0:56</td>\n",
              "    </tr>\n",
              "    <tr>\n",
              "      <th>2</th>\n",
              "      <td>37532</td>\n",
              "      <td>gXvC9ucx</td>\n",
              "      <td>5/5/2020 15:00</td>\n",
              "      <td>36</td>\n",
              "      <td>3101</td>\n",
              "      <td>urgent-reorder</td>\n",
              "      <td>5/5/2020 12:30</td>\n",
              "      <td>5/4/2020 12:53</td>\n",
              "      <td>5/7/2020 0:56</td>\n",
              "    </tr>\n",
              "    <tr>\n",
              "      <th>3</th>\n",
              "      <td>38177</td>\n",
              "      <td>gXvC9ucx</td>\n",
              "      <td>5/4/2020 18:00</td>\n",
              "      <td>25</td>\n",
              "      <td>3101</td>\n",
              "      <td>urgent-reorder</td>\n",
              "      <td>5/5/2020 12:30</td>\n",
              "      <td>5/4/2020 12:53</td>\n",
              "      <td>5/7/2020 0:56</td>\n",
              "    </tr>\n",
              "    <tr>\n",
              "      <th>4</th>\n",
              "      <td>64615</td>\n",
              "      <td>gXvC9ucx</td>\n",
              "      <td>5/4/2020 14:00</td>\n",
              "      <td>61</td>\n",
              "      <td>3101</td>\n",
              "      <td>urgent-reorder</td>\n",
              "      <td>5/5/2020 12:30</td>\n",
              "      <td>5/4/2020 12:53</td>\n",
              "      <td>5/7/2020 0:56</td>\n",
              "    </tr>\n",
              "    <tr>\n",
              "      <th>5</th>\n",
              "      <td>65263</td>\n",
              "      <td>gXvC9ucx</td>\n",
              "      <td>5/5/2020 5:00</td>\n",
              "      <td>3</td>\n",
              "      <td>3101</td>\n",
              "      <td>urgent-reorder</td>\n",
              "      <td>5/5/2020 12:30</td>\n",
              "      <td>5/4/2020 12:53</td>\n",
              "      <td>5/7/2020 0:56</td>\n",
              "    </tr>\n",
              "    <tr>\n",
              "      <th>6</th>\n",
              "      <td>95385</td>\n",
              "      <td>gXvC9ucx</td>\n",
              "      <td>5/6/2020 13:00</td>\n",
              "      <td>19</td>\n",
              "      <td>3101</td>\n",
              "      <td>urgent-reorder</td>\n",
              "      <td>5/5/2020 12:30</td>\n",
              "      <td>5/4/2020 12:53</td>\n",
              "      <td>5/7/2020 0:56</td>\n",
              "    </tr>\n",
              "    <tr>\n",
              "      <th>7</th>\n",
              "      <td>97671</td>\n",
              "      <td>gXvC9ucx</td>\n",
              "      <td>5/6/2020 11:00</td>\n",
              "      <td>18</td>\n",
              "      <td>3101</td>\n",
              "      <td>urgent-reorder</td>\n",
              "      <td>5/5/2020 12:30</td>\n",
              "      <td>5/4/2020 12:53</td>\n",
              "      <td>5/7/2020 0:56</td>\n",
              "    </tr>\n",
              "    <tr>\n",
              "      <th>8</th>\n",
              "      <td>104062</td>\n",
              "      <td>gXvC9ucx</td>\n",
              "      <td>5/5/2020 21:00</td>\n",
              "      <td>47</td>\n",
              "      <td>3101</td>\n",
              "      <td>urgent-reorder</td>\n",
              "      <td>5/5/2020 12:30</td>\n",
              "      <td>5/4/2020 12:53</td>\n",
              "      <td>5/7/2020 0:56</td>\n",
              "    </tr>\n",
              "    <tr>\n",
              "      <th>9</th>\n",
              "      <td>119146</td>\n",
              "      <td>gXvC9ucx</td>\n",
              "      <td>5/4/2020 21:00</td>\n",
              "      <td>38</td>\n",
              "      <td>3101</td>\n",
              "      <td>urgent-reorder</td>\n",
              "      <td>5/5/2020 12:30</td>\n",
              "      <td>5/4/2020 12:53</td>\n",
              "      <td>5/7/2020 0:56</td>\n",
              "    </tr>\n",
              "    <tr>\n",
              "      <th>10</th>\n",
              "      <td>149708</td>\n",
              "      <td>gXvC9ucx</td>\n",
              "      <td>5/5/2020 19:00</td>\n",
              "      <td>32</td>\n",
              "      <td>3101</td>\n",
              "      <td>urgent-reorder</td>\n",
              "      <td>5/5/2020 12:30</td>\n",
              "      <td>5/4/2020 12:53</td>\n",
              "      <td>5/7/2020 0:56</td>\n",
              "    </tr>\n",
              "    <tr>\n",
              "      <th>11</th>\n",
              "      <td>178305</td>\n",
              "      <td>gXvC9ucx</td>\n",
              "      <td>5/4/2020 13:00</td>\n",
              "      <td>143</td>\n",
              "      <td>3101</td>\n",
              "      <td>urgent-reorder</td>\n",
              "      <td>5/5/2020 12:30</td>\n",
              "      <td>5/4/2020 12:53</td>\n",
              "      <td>5/7/2020 0:56</td>\n",
              "    </tr>\n",
              "    <tr>\n",
              "      <th>12</th>\n",
              "      <td>187128</td>\n",
              "      <td>gXvC9ucx</td>\n",
              "      <td>5/4/2020 19:00</td>\n",
              "      <td>26</td>\n",
              "      <td>3101</td>\n",
              "      <td>urgent-reorder</td>\n",
              "      <td>5/5/2020 12:30</td>\n",
              "      <td>5/4/2020 12:53</td>\n",
              "      <td>5/7/2020 0:56</td>\n",
              "    </tr>\n",
              "    <tr>\n",
              "      <th>13</th>\n",
              "      <td>197370</td>\n",
              "      <td>gXvC9ucx</td>\n",
              "      <td>5/6/2020 23:00</td>\n",
              "      <td>29</td>\n",
              "      <td>3101</td>\n",
              "      <td>urgent-reorder</td>\n",
              "      <td>5/5/2020 12:30</td>\n",
              "      <td>5/4/2020 12:53</td>\n",
              "      <td>5/7/2020 0:56</td>\n",
              "    </tr>\n",
              "    <tr>\n",
              "      <th>14</th>\n",
              "      <td>198134</td>\n",
              "      <td>gXvC9ucx</td>\n",
              "      <td>5/5/2020 12:00</td>\n",
              "      <td>244</td>\n",
              "      <td>3101</td>\n",
              "      <td>urgent-reorder</td>\n",
              "      <td>5/5/2020 12:30</td>\n",
              "      <td>5/4/2020 12:53</td>\n",
              "      <td>5/7/2020 0:56</td>\n",
              "    </tr>\n",
              "    <tr>\n",
              "      <th>15</th>\n",
              "      <td>215150</td>\n",
              "      <td>gXvC9ucx</td>\n",
              "      <td>5/4/2020 17:00</td>\n",
              "      <td>32</td>\n",
              "      <td>3101</td>\n",
              "      <td>urgent-reorder</td>\n",
              "      <td>5/5/2020 12:30</td>\n",
              "      <td>5/4/2020 12:53</td>\n",
              "      <td>5/7/2020 0:56</td>\n",
              "    </tr>\n",
              "    <tr>\n",
              "      <th>16</th>\n",
              "      <td>217470</td>\n",
              "      <td>gXvC9ucx</td>\n",
              "      <td>5/5/2020 9:00</td>\n",
              "      <td>13</td>\n",
              "      <td>3101</td>\n",
              "      <td>urgent-reorder</td>\n",
              "      <td>5/5/2020 12:30</td>\n",
              "      <td>5/4/2020 12:53</td>\n",
              "      <td>5/7/2020 0:56</td>\n",
              "    </tr>\n",
              "    <tr>\n",
              "      <th>17</th>\n",
              "      <td>239082</td>\n",
              "      <td>gXvC9ucx</td>\n",
              "      <td>5/5/2020 10:00</td>\n",
              "      <td>21</td>\n",
              "      <td>3101</td>\n",
              "      <td>urgent-reorder</td>\n",
              "      <td>5/5/2020 12:30</td>\n",
              "      <td>5/4/2020 12:53</td>\n",
              "      <td>5/7/2020 0:56</td>\n",
              "    </tr>\n",
              "    <tr>\n",
              "      <th>18</th>\n",
              "      <td>243018</td>\n",
              "      <td>gXvC9ucx</td>\n",
              "      <td>5/6/2020 4:00</td>\n",
              "      <td>10</td>\n",
              "      <td>3101</td>\n",
              "      <td>urgent-reorder</td>\n",
              "      <td>5/5/2020 12:30</td>\n",
              "      <td>5/4/2020 12:53</td>\n",
              "      <td>5/7/2020 0:56</td>\n",
              "    </tr>\n",
              "    <tr>\n",
              "      <th>19</th>\n",
              "      <td>245898</td>\n",
              "      <td>gXvC9ucx</td>\n",
              "      <td>5/6/2020 20:00</td>\n",
              "      <td>41</td>\n",
              "      <td>3101</td>\n",
              "      <td>urgent-reorder</td>\n",
              "      <td>5/5/2020 12:30</td>\n",
              "      <td>5/4/2020 12:53</td>\n",
              "      <td>5/7/2020 0:56</td>\n",
              "    </tr>\n",
              "    <tr>\n",
              "      <th>20</th>\n",
              "      <td>254736</td>\n",
              "      <td>gXvC9ucx</td>\n",
              "      <td>5/5/2020 6:00</td>\n",
              "      <td>6</td>\n",
              "      <td>3101</td>\n",
              "      <td>urgent-reorder</td>\n",
              "      <td>5/5/2020 12:30</td>\n",
              "      <td>5/4/2020 12:53</td>\n",
              "      <td>5/7/2020 0:56</td>\n",
              "    </tr>\n",
              "    <tr>\n",
              "      <th>21</th>\n",
              "      <td>267206</td>\n",
              "      <td>gXvC9ucx</td>\n",
              "      <td>5/4/2020 20:00</td>\n",
              "      <td>69</td>\n",
              "      <td>3101</td>\n",
              "      <td>urgent-reorder</td>\n",
              "      <td>5/5/2020 12:30</td>\n",
              "      <td>5/4/2020 12:53</td>\n",
              "      <td>5/7/2020 0:56</td>\n",
              "    </tr>\n",
              "    <tr>\n",
              "      <th>22</th>\n",
              "      <td>275212</td>\n",
              "      <td>gXvC9ucx</td>\n",
              "      <td>5/6/2020 21:00</td>\n",
              "      <td>39</td>\n",
              "      <td>3101</td>\n",
              "      <td>urgent-reorder</td>\n",
              "      <td>5/5/2020 12:30</td>\n",
              "      <td>5/4/2020 12:53</td>\n",
              "      <td>5/7/2020 0:56</td>\n",
              "    </tr>\n",
              "    <tr>\n",
              "      <th>23</th>\n",
              "      <td>276639</td>\n",
              "      <td>gXvC9ucx</td>\n",
              "      <td>5/6/2020 1:00</td>\n",
              "      <td>23</td>\n",
              "      <td>3101</td>\n",
              "      <td>urgent-reorder</td>\n",
              "      <td>5/5/2020 12:30</td>\n",
              "      <td>5/4/2020 12:53</td>\n",
              "      <td>5/7/2020 0:56</td>\n",
              "    </tr>\n",
              "    <tr>\n",
              "      <th>24</th>\n",
              "      <td>321177</td>\n",
              "      <td>gXvC9ucx</td>\n",
              "      <td>5/6/2020 9:00</td>\n",
              "      <td>14</td>\n",
              "      <td>3101</td>\n",
              "      <td>urgent-reorder</td>\n",
              "      <td>5/5/2020 12:30</td>\n",
              "      <td>5/4/2020 12:53</td>\n",
              "      <td>5/7/2020 0:56</td>\n",
              "    </tr>\n",
              "  </tbody>\n",
              "</table>\n",
              "</div>"
            ],
            "text/plain": [
              "    index_x   post_id  ... post_publish_time  post_retire_time\n",
              "0         0  gXvC9ucx  ...    5/4/2020 12:53     5/7/2020 0:56\n",
              "1     31236  gXvC9ucx  ...    5/4/2020 12:53     5/7/2020 0:56\n",
              "2     37532  gXvC9ucx  ...    5/4/2020 12:53     5/7/2020 0:56\n",
              "3     38177  gXvC9ucx  ...    5/4/2020 12:53     5/7/2020 0:56\n",
              "4     64615  gXvC9ucx  ...    5/4/2020 12:53     5/7/2020 0:56\n",
              "5     65263  gXvC9ucx  ...    5/4/2020 12:53     5/7/2020 0:56\n",
              "6     95385  gXvC9ucx  ...    5/4/2020 12:53     5/7/2020 0:56\n",
              "7     97671  gXvC9ucx  ...    5/4/2020 12:53     5/7/2020 0:56\n",
              "8    104062  gXvC9ucx  ...    5/4/2020 12:53     5/7/2020 0:56\n",
              "9    119146  gXvC9ucx  ...    5/4/2020 12:53     5/7/2020 0:56\n",
              "10   149708  gXvC9ucx  ...    5/4/2020 12:53     5/7/2020 0:56\n",
              "11   178305  gXvC9ucx  ...    5/4/2020 12:53     5/7/2020 0:56\n",
              "12   187128  gXvC9ucx  ...    5/4/2020 12:53     5/7/2020 0:56\n",
              "13   197370  gXvC9ucx  ...    5/4/2020 12:53     5/7/2020 0:56\n",
              "14   198134  gXvC9ucx  ...    5/4/2020 12:53     5/7/2020 0:56\n",
              "15   215150  gXvC9ucx  ...    5/4/2020 12:53     5/7/2020 0:56\n",
              "16   217470  gXvC9ucx  ...    5/4/2020 12:53     5/7/2020 0:56\n",
              "17   239082  gXvC9ucx  ...    5/4/2020 12:53     5/7/2020 0:56\n",
              "18   243018  gXvC9ucx  ...    5/4/2020 12:53     5/7/2020 0:56\n",
              "19   245898  gXvC9ucx  ...    5/4/2020 12:53     5/7/2020 0:56\n",
              "20   254736  gXvC9ucx  ...    5/4/2020 12:53     5/7/2020 0:56\n",
              "21   267206  gXvC9ucx  ...    5/4/2020 12:53     5/7/2020 0:56\n",
              "22   275212  gXvC9ucx  ...    5/4/2020 12:53     5/7/2020 0:56\n",
              "23   276639  gXvC9ucx  ...    5/4/2020 12:53     5/7/2020 0:56\n",
              "24   321177  gXvC9ucx  ...    5/4/2020 12:53     5/7/2020 0:56\n",
              "\n",
              "[25 rows x 9 columns]"
            ]
          },
          "metadata": {
            "tags": []
          },
          "execution_count": 112
        }
      ]
    },
    {
      "cell_type": "code",
      "metadata": {
        "colab": {
          "base_uri": "https://localhost:8080/"
        },
        "id": "GX3-4G7p2kYg",
        "outputId": "10a6cf82-7c87-4258-bcfc-8314e15c804a"
      },
      "source": [
        "print(df.shape)"
      ],
      "execution_count": 113,
      "outputs": [
        {
          "output_type": "stream",
          "text": [
            "(1244674, 9)\n"
          ],
          "name": "stdout"
        }
      ]
    },
    {
      "cell_type": "code",
      "metadata": {
        "id": "R4dRQZil3u25"
      },
      "source": [
        "final_df = df.drop_duplicates(subset='post_id')"
      ],
      "execution_count": 114,
      "outputs": []
    },
    {
      "cell_type": "code",
      "metadata": {
        "colab": {
          "base_uri": "https://localhost:8080/"
        },
        "id": "41M2imY93ybJ",
        "outputId": "0fa7f135-c87b-4e6e-b105-c181d6e15a1e"
      },
      "source": [
        "print(final_df.shape)"
      ],
      "execution_count": 115,
      "outputs": [
        {
          "output_type": "stream",
          "text": [
            "(7325, 9)\n"
          ],
          "name": "stdout"
        }
      ]
    },
    {
      "cell_type": "code",
      "metadata": {
        "colab": {
          "base_uri": "https://localhost:8080/",
          "height": 206
        },
        "id": "BCvb42S932JY",
        "outputId": "bcdcfdd8-7531-4d85-d832-838615c8663d"
      },
      "source": [
        "final_df.head()"
      ],
      "execution_count": 116,
      "outputs": [
        {
          "output_type": "execute_result",
          "data": {
            "text/html": [
              "<div>\n",
              "<style scoped>\n",
              "    .dataframe tbody tr th:only-of-type {\n",
              "        vertical-align: middle;\n",
              "    }\n",
              "\n",
              "    .dataframe tbody tr th {\n",
              "        vertical-align: top;\n",
              "    }\n",
              "\n",
              "    .dataframe thead th {\n",
              "        text-align: right;\n",
              "    }\n",
              "</style>\n",
              "<table border=\"1\" class=\"dataframe\">\n",
              "  <thead>\n",
              "    <tr style=\"text-align: right;\">\n",
              "      <th></th>\n",
              "      <th>index_x</th>\n",
              "      <th>post_id</th>\n",
              "      <th>click_time</th>\n",
              "      <th>click_post_count</th>\n",
              "      <th>index_y</th>\n",
              "      <th>tag</th>\n",
              "      <th>reorder_time</th>\n",
              "      <th>post_publish_time</th>\n",
              "      <th>post_retire_time</th>\n",
              "    </tr>\n",
              "  </thead>\n",
              "  <tbody>\n",
              "    <tr>\n",
              "      <th>0</th>\n",
              "      <td>0</td>\n",
              "      <td>gXvC9ucx</td>\n",
              "      <td>5/7/2020 0:00</td>\n",
              "      <td>31</td>\n",
              "      <td>3101</td>\n",
              "      <td>urgent-reorder</td>\n",
              "      <td>5/5/2020 12:30</td>\n",
              "      <td>5/4/2020 12:53</td>\n",
              "      <td>5/7/2020 0:56</td>\n",
              "    </tr>\n",
              "    <tr>\n",
              "      <th>64</th>\n",
              "      <td>1</td>\n",
              "      <td>gXluVlHC</td>\n",
              "      <td>5/7/2020 0:00</td>\n",
              "      <td>19</td>\n",
              "      <td>7293</td>\n",
              "      <td>urgent-reorder</td>\n",
              "      <td>5/5/2020 2:37</td>\n",
              "      <td>4/26/2020 14:35</td>\n",
              "      <td>5/13/2020 0:10</td>\n",
              "    </tr>\n",
              "    <tr>\n",
              "      <th>294</th>\n",
              "      <td>2</td>\n",
              "      <td>gXxugqam</td>\n",
              "      <td>5/7/2020 0:00</td>\n",
              "      <td>13</td>\n",
              "      <td>5399</td>\n",
              "      <td>reorder</td>\n",
              "      <td>5/8/2020 12:41</td>\n",
              "      <td>5/5/2020 11:18</td>\n",
              "      <td>5/11/2020 12:52</td>\n",
              "    </tr>\n",
              "    <tr>\n",
              "      <th>411</th>\n",
              "      <td>3</td>\n",
              "      <td>gXy6Jn2Y</td>\n",
              "      <td>5/7/2020 0:00</td>\n",
              "      <td>14</td>\n",
              "      <td>1133</td>\n",
              "      <td>reorder</td>\n",
              "      <td>5/7/2020 13:43</td>\n",
              "      <td>5/6/2020 16:06</td>\n",
              "      <td>5/8/2020 23:17</td>\n",
              "    </tr>\n",
              "    <tr>\n",
              "      <th>468</th>\n",
              "      <td>4</td>\n",
              "      <td>gXo2A5D9</td>\n",
              "      <td>5/7/2020 0:00</td>\n",
              "      <td>38</td>\n",
              "      <td>4150</td>\n",
              "      <td>reorder</td>\n",
              "      <td>5/1/2020 5:09</td>\n",
              "      <td>4/28/2020 15:37</td>\n",
              "      <td>5/9/2020 17:23</td>\n",
              "    </tr>\n",
              "  </tbody>\n",
              "</table>\n",
              "</div>"
            ],
            "text/plain": [
              "     index_x   post_id  ... post_publish_time  post_retire_time\n",
              "0          0  gXvC9ucx  ...    5/4/2020 12:53     5/7/2020 0:56\n",
              "64         1  gXluVlHC  ...   4/26/2020 14:35    5/13/2020 0:10\n",
              "294        2  gXxugqam  ...    5/5/2020 11:18   5/11/2020 12:52\n",
              "411        3  gXy6Jn2Y  ...    5/6/2020 16:06    5/8/2020 23:17\n",
              "468        4  gXo2A5D9  ...   4/28/2020 15:37    5/9/2020 17:23\n",
              "\n",
              "[5 rows x 9 columns]"
            ]
          },
          "metadata": {
            "tags": []
          },
          "execution_count": 116
        }
      ]
    },
    {
      "cell_type": "code",
      "metadata": {
        "colab": {
          "base_uri": "https://localhost:8080/"
        },
        "id": "oZeYnR9d5-zY",
        "outputId": "def9839e-3e30-4aa9-fee2-221d6a55ab73"
      },
      "source": [
        "# get the unique post ids first \n",
        "# then enumerate them and update click_pose_count from the original df with duplitcate ids per click\n",
        "\n",
        "import numpy as np\n",
        "\n",
        "\n",
        "unique_id_list = np.unique(final_df['post_id'])\n",
        "for id in unique_id_list[0:10]:\n",
        "  print(id)"
      ],
      "execution_count": 117,
      "outputs": [
        {
          "output_type": "stream",
          "text": [
            "gX0-BX2i\n",
            "gX0-Cbgo\n",
            "gX0-HGIO\n",
            "gX0-PDkv\n",
            "gX0-RNuk\n",
            "gX0-V3dD\n",
            "gX0-gWtn\n",
            "gX0-iDWS\n",
            "gX0-jtbn\n",
            "gX0-k1go\n"
          ],
          "name": "stdout"
        }
      ]
    },
    {
      "cell_type": "code",
      "metadata": {
        "id": "GLBZixqfvxrh"
      },
      "source": [
        "df[[\"reorder_time\", \"post_publish_time\", \"post_retire_time\"]] = df[[\"reorder_time\", \"post_publish_time\", \"post_retire_time\"]].apply(pd.to_datetime)\n"
      ],
      "execution_count": 118,
      "outputs": []
    },
    {
      "cell_type": "code",
      "metadata": {
        "colab": {
          "base_uri": "https://localhost:8080/"
        },
        "id": "r3HsVjnC2tGr",
        "outputId": "a8cb79f7-3115-49e4-8b68-57cdeae9c990"
      },
      "source": [
        "# for each ID\n",
        "from datetime import timedelta\n",
        "\n",
        "for id in unique_id_list:\n",
        "  id_df = df[df['post_id']==id]\n",
        "  start_date = id_df['reorder_time']\n",
        "  # start_date += timedelta(days=1)\n",
        "  start_date += timedelta(days=1)\n",
        "  end_date =  id_df['post_retire_time']\n",
        "  after_start_date = id_df[\"reorder_time\"] >= start_date\n",
        "  before_end_date = id_df[\"reorder_time\"] <= end_date\n",
        "  between_two_dates = after_start_date & before_end_date\n",
        "  filtered_dates = id_df.loc[between_two_dates]\n",
        "  # df = df.loc[(df['reorder_time'].dt.day >= date)]\n",
        "  # if id_df = df[df['post_id']==id]\n",
        "  total_clicks = np.sum(filtered_dates['click_post_count'])\n",
        "  # get the total number of clicks\n",
        "  # and replace it in the new df\n",
        "  final_df.loc[final_df['post_id']==id, 'click_post_count'] = total_clicks\n"
      ],
      "execution_count": 119,
      "outputs": [
        {
          "output_type": "stream",
          "text": [
            "/usr/local/lib/python3.7/dist-packages/pandas/core/indexing.py:1763: SettingWithCopyWarning: \n",
            "A value is trying to be set on a copy of a slice from a DataFrame.\n",
            "Try using .loc[row_indexer,col_indexer] = value instead\n",
            "\n",
            "See the caveats in the documentation: https://pandas.pydata.org/pandas-docs/stable/user_guide/indexing.html#returning-a-view-versus-a-copy\n",
            "  isetter(loc, value)\n"
          ],
          "name": "stderr"
        }
      ]
    },
    {
      "cell_type": "code",
      "metadata": {
        "colab": {
          "base_uri": "https://localhost:8080/",
          "height": 424
        },
        "id": "7258OhGEHW_b",
        "outputId": "5fe5f8cf-35d8-4a3f-ed7a-aa1d8fee20df"
      },
      "source": [
        "id_df"
      ],
      "execution_count": 120,
      "outputs": [
        {
          "output_type": "execute_result",
          "data": {
            "text/html": [
              "<div>\n",
              "<style scoped>\n",
              "    .dataframe tbody tr th:only-of-type {\n",
              "        vertical-align: middle;\n",
              "    }\n",
              "\n",
              "    .dataframe tbody tr th {\n",
              "        vertical-align: top;\n",
              "    }\n",
              "\n",
              "    .dataframe thead th {\n",
              "        text-align: right;\n",
              "    }\n",
              "</style>\n",
              "<table border=\"1\" class=\"dataframe\">\n",
              "  <thead>\n",
              "    <tr style=\"text-align: right;\">\n",
              "      <th></th>\n",
              "      <th>index_x</th>\n",
              "      <th>post_id</th>\n",
              "      <th>click_time</th>\n",
              "      <th>click_post_count</th>\n",
              "      <th>index_y</th>\n",
              "      <th>tag</th>\n",
              "      <th>reorder_time</th>\n",
              "      <th>post_publish_time</th>\n",
              "      <th>post_retire_time</th>\n",
              "    </tr>\n",
              "  </thead>\n",
              "  <tbody>\n",
              "    <tr>\n",
              "      <th>1143903</th>\n",
              "      <td>16470</td>\n",
              "      <td>gXzyxiBh</td>\n",
              "      <td>5/7/2020 3:00</td>\n",
              "      <td>22</td>\n",
              "      <td>9463</td>\n",
              "      <td>urgent-reorder</td>\n",
              "      <td>2020-05-10 18:08:00</td>\n",
              "      <td>2020-05-07 00:59:00</td>\n",
              "      <td>NaT</td>\n",
              "    </tr>\n",
              "    <tr>\n",
              "      <th>1143904</th>\n",
              "      <td>33569</td>\n",
              "      <td>gXzyxiBh</td>\n",
              "      <td>5/7/2020 22:00</td>\n",
              "      <td>5</td>\n",
              "      <td>9463</td>\n",
              "      <td>urgent-reorder</td>\n",
              "      <td>2020-05-10 18:08:00</td>\n",
              "      <td>2020-05-07 00:59:00</td>\n",
              "      <td>NaT</td>\n",
              "    </tr>\n",
              "    <tr>\n",
              "      <th>1143905</th>\n",
              "      <td>34222</td>\n",
              "      <td>gXzyxiBh</td>\n",
              "      <td>5/10/2020 23:00</td>\n",
              "      <td>4</td>\n",
              "      <td>9463</td>\n",
              "      <td>urgent-reorder</td>\n",
              "      <td>2020-05-10 18:08:00</td>\n",
              "      <td>2020-05-07 00:59:00</td>\n",
              "      <td>NaT</td>\n",
              "    </tr>\n",
              "    <tr>\n",
              "      <th>1143906</th>\n",
              "      <td>34653</td>\n",
              "      <td>gXzyxiBh</td>\n",
              "      <td>5/9/2020 17:00</td>\n",
              "      <td>2</td>\n",
              "      <td>9463</td>\n",
              "      <td>urgent-reorder</td>\n",
              "      <td>2020-05-10 18:08:00</td>\n",
              "      <td>2020-05-07 00:59:00</td>\n",
              "      <td>NaT</td>\n",
              "    </tr>\n",
              "    <tr>\n",
              "      <th>1143907</th>\n",
              "      <td>50665</td>\n",
              "      <td>gXzyxiBh</td>\n",
              "      <td>5/7/2020 6:00</td>\n",
              "      <td>6</td>\n",
              "      <td>9463</td>\n",
              "      <td>urgent-reorder</td>\n",
              "      <td>2020-05-10 18:08:00</td>\n",
              "      <td>2020-05-07 00:59:00</td>\n",
              "      <td>NaT</td>\n",
              "    </tr>\n",
              "    <tr>\n",
              "      <th>...</th>\n",
              "      <td>...</td>\n",
              "      <td>...</td>\n",
              "      <td>...</td>\n",
              "      <td>...</td>\n",
              "      <td>...</td>\n",
              "      <td>...</td>\n",
              "      <td>...</td>\n",
              "      <td>...</td>\n",
              "      <td>...</td>\n",
              "    </tr>\n",
              "    <tr>\n",
              "      <th>1143982</th>\n",
              "      <td>705177</td>\n",
              "      <td>gXzyxiBh</td>\n",
              "      <td>5/10/2020 8:00</td>\n",
              "      <td>1</td>\n",
              "      <td>9463</td>\n",
              "      <td>urgent-reorder</td>\n",
              "      <td>2020-05-10 18:08:00</td>\n",
              "      <td>2020-05-07 00:59:00</td>\n",
              "      <td>NaT</td>\n",
              "    </tr>\n",
              "    <tr>\n",
              "      <th>1143983</th>\n",
              "      <td>712871</td>\n",
              "      <td>gXzyxiBh</td>\n",
              "      <td>5/9/2020 10:00</td>\n",
              "      <td>1</td>\n",
              "      <td>9463</td>\n",
              "      <td>urgent-reorder</td>\n",
              "      <td>2020-05-10 18:08:00</td>\n",
              "      <td>2020-05-07 00:59:00</td>\n",
              "      <td>NaT</td>\n",
              "    </tr>\n",
              "    <tr>\n",
              "      <th>1143984</th>\n",
              "      <td>713406</td>\n",
              "      <td>gXzyxiBh</td>\n",
              "      <td>5/9/2020 22:00</td>\n",
              "      <td>14</td>\n",
              "      <td>9463</td>\n",
              "      <td>urgent-reorder</td>\n",
              "      <td>2020-05-10 18:08:00</td>\n",
              "      <td>2020-05-07 00:59:00</td>\n",
              "      <td>NaT</td>\n",
              "    </tr>\n",
              "    <tr>\n",
              "      <th>1143985</th>\n",
              "      <td>718405</td>\n",
              "      <td>gXzyxiBh</td>\n",
              "      <td>5/7/2020 9:00</td>\n",
              "      <td>7</td>\n",
              "      <td>9463</td>\n",
              "      <td>urgent-reorder</td>\n",
              "      <td>2020-05-10 18:08:00</td>\n",
              "      <td>2020-05-07 00:59:00</td>\n",
              "      <td>NaT</td>\n",
              "    </tr>\n",
              "    <tr>\n",
              "      <th>1143986</th>\n",
              "      <td>739164</td>\n",
              "      <td>gXzyxiBh</td>\n",
              "      <td>5/8/2020 9:00</td>\n",
              "      <td>2</td>\n",
              "      <td>9463</td>\n",
              "      <td>urgent-reorder</td>\n",
              "      <td>2020-05-10 18:08:00</td>\n",
              "      <td>2020-05-07 00:59:00</td>\n",
              "      <td>NaT</td>\n",
              "    </tr>\n",
              "  </tbody>\n",
              "</table>\n",
              "<p>84 rows × 9 columns</p>\n",
              "</div>"
            ],
            "text/plain": [
              "         index_x   post_id  ...   post_publish_time  post_retire_time\n",
              "1143903    16470  gXzyxiBh  ... 2020-05-07 00:59:00               NaT\n",
              "1143904    33569  gXzyxiBh  ... 2020-05-07 00:59:00               NaT\n",
              "1143905    34222  gXzyxiBh  ... 2020-05-07 00:59:00               NaT\n",
              "1143906    34653  gXzyxiBh  ... 2020-05-07 00:59:00               NaT\n",
              "1143907    50665  gXzyxiBh  ... 2020-05-07 00:59:00               NaT\n",
              "...          ...       ...  ...                 ...               ...\n",
              "1143982   705177  gXzyxiBh  ... 2020-05-07 00:59:00               NaT\n",
              "1143983   712871  gXzyxiBh  ... 2020-05-07 00:59:00               NaT\n",
              "1143984   713406  gXzyxiBh  ... 2020-05-07 00:59:00               NaT\n",
              "1143985   718405  gXzyxiBh  ... 2020-05-07 00:59:00               NaT\n",
              "1143986   739164  gXzyxiBh  ... 2020-05-07 00:59:00               NaT\n",
              "\n",
              "[84 rows x 9 columns]"
            ]
          },
          "metadata": {
            "tags": []
          },
          "execution_count": 120
        }
      ]
    },
    {
      "cell_type": "code",
      "metadata": {
        "colab": {
          "base_uri": "https://localhost:8080/",
          "height": 834
        },
        "id": "5lKHrGrf3e1_",
        "outputId": "7e3645fd-3f8a-4a2c-cc69-980633fd3829"
      },
      "source": [
        "final_df.tail(25)"
      ],
      "execution_count": 121,
      "outputs": [
        {
          "output_type": "execute_result",
          "data": {
            "text/html": [
              "<div>\n",
              "<style scoped>\n",
              "    .dataframe tbody tr th:only-of-type {\n",
              "        vertical-align: middle;\n",
              "    }\n",
              "\n",
              "    .dataframe tbody tr th {\n",
              "        vertical-align: top;\n",
              "    }\n",
              "\n",
              "    .dataframe thead th {\n",
              "        text-align: right;\n",
              "    }\n",
              "</style>\n",
              "<table border=\"1\" class=\"dataframe\">\n",
              "  <thead>\n",
              "    <tr style=\"text-align: right;\">\n",
              "      <th></th>\n",
              "      <th>index_x</th>\n",
              "      <th>post_id</th>\n",
              "      <th>click_time</th>\n",
              "      <th>click_post_count</th>\n",
              "      <th>index_y</th>\n",
              "      <th>tag</th>\n",
              "      <th>reorder_time</th>\n",
              "      <th>post_publish_time</th>\n",
              "      <th>post_retire_time</th>\n",
              "    </tr>\n",
              "  </thead>\n",
              "  <tbody>\n",
              "    <tr>\n",
              "      <th>1244337</th>\n",
              "      <td>128965</td>\n",
              "      <td>gXoKgLef</td>\n",
              "      <td>5/1/2020 10:00</td>\n",
              "      <td>0</td>\n",
              "      <td>116</td>\n",
              "      <td>reorder</td>\n",
              "      <td>5/1/2020 17:00</td>\n",
              "      <td>4/28/2020 14:50</td>\n",
              "      <td>5/1/2020 19:38</td>\n",
              "    </tr>\n",
              "    <tr>\n",
              "      <th>1244345</th>\n",
              "      <td>130992</td>\n",
              "      <td>gXw6j5gC</td>\n",
              "      <td>5/5/2020 13:00</td>\n",
              "      <td>0</td>\n",
              "      <td>9207</td>\n",
              "      <td>reorder</td>\n",
              "      <td>5/5/2020 10:58</td>\n",
              "      <td>5/4/2020 20:43</td>\n",
              "      <td>5/5/2020 21:04</td>\n",
              "    </tr>\n",
              "    <tr>\n",
              "      <th>1244370</th>\n",
              "      <td>134926</td>\n",
              "      <td>gXlSXsM3</td>\n",
              "      <td>5/3/2020 12:00</td>\n",
              "      <td>0</td>\n",
              "      <td>1065</td>\n",
              "      <td>urgent-reorder</td>\n",
              "      <td>5/3/2020 11:17</td>\n",
              "      <td>4/26/2020 16:23</td>\n",
              "      <td>5/3/2020 14:02</td>\n",
              "    </tr>\n",
              "    <tr>\n",
              "      <th>1244383</th>\n",
              "      <td>142816</td>\n",
              "      <td>gXrKB0Ym</td>\n",
              "      <td>5/1/2020 8:00</td>\n",
              "      <td>0</td>\n",
              "      <td>1810</td>\n",
              "      <td>reorder</td>\n",
              "      <td>5/1/2020 14:46</td>\n",
              "      <td>4/30/2020 22:54</td>\n",
              "      <td>5/1/2020 17:53</td>\n",
              "    </tr>\n",
              "    <tr>\n",
              "      <th>1244413</th>\n",
              "      <td>144339</td>\n",
              "      <td>gXpWiwzh</td>\n",
              "      <td>5/1/2020 11:00</td>\n",
              "      <td>0</td>\n",
              "      <td>4653</td>\n",
              "      <td>urgent-reorder</td>\n",
              "      <td>5/1/2020 13:24</td>\n",
              "      <td>4/29/2020 11:30</td>\n",
              "      <td>5/1/2020 15:55</td>\n",
              "    </tr>\n",
              "    <tr>\n",
              "      <th>1244420</th>\n",
              "      <td>145538</td>\n",
              "      <td>gXrucGz9</td>\n",
              "      <td>5/1/2020 14:00</td>\n",
              "      <td>0</td>\n",
              "      <td>2564</td>\n",
              "      <td>reorder</td>\n",
              "      <td>5/1/2020 16:45</td>\n",
              "      <td>5/1/2020 11:39</td>\n",
              "      <td>5/1/2020 16:47</td>\n",
              "    </tr>\n",
              "    <tr>\n",
              "      <th>1244426</th>\n",
              "      <td>151231</td>\n",
              "      <td>gXj6fUOC</td>\n",
              "      <td>5/3/2020 1:00</td>\n",
              "      <td>0</td>\n",
              "      <td>9468</td>\n",
              "      <td>reorder</td>\n",
              "      <td>5/4/2020 11:49</td>\n",
              "      <td>4/25/2020 13:49</td>\n",
              "      <td>5/4/2020 12:01</td>\n",
              "    </tr>\n",
              "    <tr>\n",
              "      <th>1244433</th>\n",
              "      <td>154626</td>\n",
              "      <td>gXy-eFJ0</td>\n",
              "      <td>5/10/2020 11:00</td>\n",
              "      <td>0</td>\n",
              "      <td>9517</td>\n",
              "      <td>reorder</td>\n",
              "      <td>5/7/2020 0:16</td>\n",
              "      <td>5/6/2020 21:49</td>\n",
              "      <td>NaN</td>\n",
              "    </tr>\n",
              "    <tr>\n",
              "      <th>1244465</th>\n",
              "      <td>165171</td>\n",
              "      <td>gX1qagv0</td>\n",
              "      <td>5/9/2020 7:00</td>\n",
              "      <td>0</td>\n",
              "      <td>4297</td>\n",
              "      <td>reorder</td>\n",
              "      <td>5/9/2020 10:49</td>\n",
              "      <td>5/8/2020 23:39</td>\n",
              "      <td>5/9/2020 13:31</td>\n",
              "    </tr>\n",
              "    <tr>\n",
              "      <th>1244480</th>\n",
              "      <td>166329</td>\n",
              "      <td>gXteZLPf</td>\n",
              "      <td>5/3/2020 9:00</td>\n",
              "      <td>0</td>\n",
              "      <td>6306</td>\n",
              "      <td>urgent-reorder</td>\n",
              "      <td>5/3/2020 14:43</td>\n",
              "      <td>5/2/2020 20:38</td>\n",
              "      <td>5/3/2020 19:35</td>\n",
              "    </tr>\n",
              "    <tr>\n",
              "      <th>1244494</th>\n",
              "      <td>167042</td>\n",
              "      <td>gXq2m6XB</td>\n",
              "      <td>6/2/2020 9:00</td>\n",
              "      <td>0</td>\n",
              "      <td>5320</td>\n",
              "      <td>urgent-reorder</td>\n",
              "      <td>5/1/2020 9:35</td>\n",
              "      <td>4/30/2020 10:50</td>\n",
              "      <td>5/1/2020 10:58</td>\n",
              "    </tr>\n",
              "    <tr>\n",
              "      <th>1244505</th>\n",
              "      <td>178068</td>\n",
              "      <td>gXkCHH9l</td>\n",
              "      <td>5/3/2020 2:00</td>\n",
              "      <td>0</td>\n",
              "      <td>5500</td>\n",
              "      <td>reorder</td>\n",
              "      <td>5/3/2020 14:37</td>\n",
              "      <td>4/25/2020 21:55</td>\n",
              "      <td>5/3/2020 20:58</td>\n",
              "    </tr>\n",
              "    <tr>\n",
              "      <th>1244518</th>\n",
              "      <td>180865</td>\n",
              "      <td>gXoil0EM</td>\n",
              "      <td>5/2/2020 15:00</td>\n",
              "      <td>0</td>\n",
              "      <td>10751</td>\n",
              "      <td>reorder</td>\n",
              "      <td>5/2/2020 14:54</td>\n",
              "      <td>4/28/2020 20:55</td>\n",
              "      <td>5/2/2020 20:35</td>\n",
              "    </tr>\n",
              "    <tr>\n",
              "      <th>1244523</th>\n",
              "      <td>188028</td>\n",
              "      <td>gXpGzeLC</td>\n",
              "      <td>5/1/2020 10:00</td>\n",
              "      <td>0</td>\n",
              "      <td>6496</td>\n",
              "      <td>urgent-reorder</td>\n",
              "      <td>5/1/2020 13:46</td>\n",
              "      <td>4/29/2020 12:38</td>\n",
              "      <td>5/1/2020 18:43</td>\n",
              "    </tr>\n",
              "    <tr>\n",
              "      <th>1244533</th>\n",
              "      <td>194344</td>\n",
              "      <td>gXxuRWRu</td>\n",
              "      <td>5/7/2020 10:00</td>\n",
              "      <td>0</td>\n",
              "      <td>9213</td>\n",
              "      <td>reorder</td>\n",
              "      <td>5/7/2020 8:35</td>\n",
              "      <td>5/5/2020 13:10</td>\n",
              "      <td>5/7/2020 14:40</td>\n",
              "    </tr>\n",
              "    <tr>\n",
              "      <th>1244549</th>\n",
              "      <td>196494</td>\n",
              "      <td>gXz2ZieP</td>\n",
              "      <td>5/7/2020 9:00</td>\n",
              "      <td>0</td>\n",
              "      <td>7749</td>\n",
              "      <td>urgent-reorder</td>\n",
              "      <td>5/7/2020 12:39</td>\n",
              "      <td>5/7/2020 10:26</td>\n",
              "      <td>5/7/2020 13:16</td>\n",
              "    </tr>\n",
              "    <tr>\n",
              "      <th>1244557</th>\n",
              "      <td>200821</td>\n",
              "      <td>gXrSfQlk</td>\n",
              "      <td>5/1/2020 14:00</td>\n",
              "      <td>0</td>\n",
              "      <td>5208</td>\n",
              "      <td>urgent-reorder</td>\n",
              "      <td>5/2/2020 12:46</td>\n",
              "      <td>5/1/2020 14:40</td>\n",
              "      <td>NaN</td>\n",
              "    </tr>\n",
              "    <tr>\n",
              "      <th>1244570</th>\n",
              "      <td>202836</td>\n",
              "      <td>gXnmOIk4</td>\n",
              "      <td>5/1/2020 7:00</td>\n",
              "      <td>0</td>\n",
              "      <td>8034</td>\n",
              "      <td>urgent-reorder</td>\n",
              "      <td>5/1/2020 8:22</td>\n",
              "      <td>4/28/2020 12:58</td>\n",
              "      <td>5/1/2020 8:32</td>\n",
              "    </tr>\n",
              "    <tr>\n",
              "      <th>1244572</th>\n",
              "      <td>205129</td>\n",
              "      <td>gXma_-QG</td>\n",
              "      <td>5/1/2020 18:00</td>\n",
              "      <td>0</td>\n",
              "      <td>632</td>\n",
              "      <td>urgent-reorder</td>\n",
              "      <td>5/1/2020 12:40</td>\n",
              "      <td>4/27/2020 19:55</td>\n",
              "      <td>5/1/2020 18:25</td>\n",
              "    </tr>\n",
              "    <tr>\n",
              "      <th>1244580</th>\n",
              "      <td>213071</td>\n",
              "      <td>gX1SNmfp</td>\n",
              "      <td>5/9/2020 10:00</td>\n",
              "      <td>0</td>\n",
              "      <td>6598</td>\n",
              "      <td>urgent-reorder</td>\n",
              "      <td>5/9/2020 19:00</td>\n",
              "      <td>5/9/2020 2:27</td>\n",
              "      <td>5/10/2020 0:24</td>\n",
              "    </tr>\n",
              "    <tr>\n",
              "      <th>1244618</th>\n",
              "      <td>217302</td>\n",
              "      <td>gXzC9prE</td>\n",
              "      <td>5/7/2020 18:00</td>\n",
              "      <td>0</td>\n",
              "      <td>2265</td>\n",
              "      <td>reorder</td>\n",
              "      <td>5/7/2020 16:05</td>\n",
              "      <td>5/7/2020 13:48</td>\n",
              "      <td>5/7/2020 16:28</td>\n",
              "    </tr>\n",
              "    <tr>\n",
              "      <th>1244627</th>\n",
              "      <td>228991</td>\n",
              "      <td>gXlypm15</td>\n",
              "      <td>5/3/2020 13:00</td>\n",
              "      <td>0</td>\n",
              "      <td>4587</td>\n",
              "      <td>reorder</td>\n",
              "      <td>5/7/2020 10:20</td>\n",
              "      <td>4/26/2020 19:10</td>\n",
              "      <td>NaN</td>\n",
              "    </tr>\n",
              "    <tr>\n",
              "      <th>1244639</th>\n",
              "      <td>232613</td>\n",
              "      <td>gXkWywKl</td>\n",
              "      <td>5/1/2020 16:00</td>\n",
              "      <td>0</td>\n",
              "      <td>10289</td>\n",
              "      <td>reorder</td>\n",
              "      <td>5/1/2020 8:24</td>\n",
              "      <td>4/25/2020 16:38</td>\n",
              "      <td>5/1/2020 11:32</td>\n",
              "    </tr>\n",
              "    <tr>\n",
              "      <th>1244654</th>\n",
              "      <td>253264</td>\n",
              "      <td>gXsmfEBU</td>\n",
              "      <td>5/2/2020 13:00</td>\n",
              "      <td>0</td>\n",
              "      <td>7729</td>\n",
              "      <td>reorder</td>\n",
              "      <td>5/2/2020 11:53</td>\n",
              "      <td>5/2/2020 9:16</td>\n",
              "      <td>5/2/2020 14:28</td>\n",
              "    </tr>\n",
              "    <tr>\n",
              "      <th>1244661</th>\n",
              "      <td>257151</td>\n",
              "      <td>gXlWeLPP</td>\n",
              "      <td>5/3/2020 17:00</td>\n",
              "      <td>0</td>\n",
              "      <td>2211</td>\n",
              "      <td>urgent-reorder</td>\n",
              "      <td>5/3/2020 14:30</td>\n",
              "      <td>4/27/2020 0:26</td>\n",
              "      <td>5/3/2020 22:25</td>\n",
              "    </tr>\n",
              "  </tbody>\n",
              "</table>\n",
              "</div>"
            ],
            "text/plain": [
              "         index_x   post_id  ... post_publish_time  post_retire_time\n",
              "1244337   128965  gXoKgLef  ...   4/28/2020 14:50    5/1/2020 19:38\n",
              "1244345   130992  gXw6j5gC  ...    5/4/2020 20:43    5/5/2020 21:04\n",
              "1244370   134926  gXlSXsM3  ...   4/26/2020 16:23    5/3/2020 14:02\n",
              "1244383   142816  gXrKB0Ym  ...   4/30/2020 22:54    5/1/2020 17:53\n",
              "1244413   144339  gXpWiwzh  ...   4/29/2020 11:30    5/1/2020 15:55\n",
              "1244420   145538  gXrucGz9  ...    5/1/2020 11:39    5/1/2020 16:47\n",
              "1244426   151231  gXj6fUOC  ...   4/25/2020 13:49    5/4/2020 12:01\n",
              "1244433   154626  gXy-eFJ0  ...    5/6/2020 21:49               NaN\n",
              "1244465   165171  gX1qagv0  ...    5/8/2020 23:39    5/9/2020 13:31\n",
              "1244480   166329  gXteZLPf  ...    5/2/2020 20:38    5/3/2020 19:35\n",
              "1244494   167042  gXq2m6XB  ...   4/30/2020 10:50    5/1/2020 10:58\n",
              "1244505   178068  gXkCHH9l  ...   4/25/2020 21:55    5/3/2020 20:58\n",
              "1244518   180865  gXoil0EM  ...   4/28/2020 20:55    5/2/2020 20:35\n",
              "1244523   188028  gXpGzeLC  ...   4/29/2020 12:38    5/1/2020 18:43\n",
              "1244533   194344  gXxuRWRu  ...    5/5/2020 13:10    5/7/2020 14:40\n",
              "1244549   196494  gXz2ZieP  ...    5/7/2020 10:26    5/7/2020 13:16\n",
              "1244557   200821  gXrSfQlk  ...    5/1/2020 14:40               NaN\n",
              "1244570   202836  gXnmOIk4  ...   4/28/2020 12:58     5/1/2020 8:32\n",
              "1244572   205129  gXma_-QG  ...   4/27/2020 19:55    5/1/2020 18:25\n",
              "1244580   213071  gX1SNmfp  ...     5/9/2020 2:27    5/10/2020 0:24\n",
              "1244618   217302  gXzC9prE  ...    5/7/2020 13:48    5/7/2020 16:28\n",
              "1244627   228991  gXlypm15  ...   4/26/2020 19:10               NaN\n",
              "1244639   232613  gXkWywKl  ...   4/25/2020 16:38    5/1/2020 11:32\n",
              "1244654   253264  gXsmfEBU  ...     5/2/2020 9:16    5/2/2020 14:28\n",
              "1244661   257151  gXlWeLPP  ...    4/27/2020 0:26    5/3/2020 22:25\n",
              "\n",
              "[25 rows x 9 columns]"
            ]
          },
          "metadata": {
            "tags": []
          },
          "execution_count": 121
        }
      ]
    },
    {
      "cell_type": "code",
      "metadata": {
        "colab": {
          "base_uri": "https://localhost:8080/"
        },
        "id": "kgpuUJaOAvL0",
        "outputId": "864e5d7b-5e66-4315-81e4-ae737acab509"
      },
      "source": [
        "# remove the duplicate columns created\n",
        "final_df.columns"
      ],
      "execution_count": 123,
      "outputs": [
        {
          "output_type": "execute_result",
          "data": {
            "text/plain": [
              "Index(['index_x', 'post_id', 'click_time', 'click_post_count', 'index_y',\n",
              "       'tag', 'reorder_time', 'post_publish_time', 'post_retire_time'],\n",
              "      dtype='object')"
            ]
          },
          "metadata": {
            "tags": []
          },
          "execution_count": 123
        }
      ]
    },
    {
      "cell_type": "code",
      "metadata": {
        "id": "TeGwFRAGAsW5"
      },
      "source": [
        "final_df = final_df.drop(columns=['index_x', 'index_y'])"
      ],
      "execution_count": 124,
      "outputs": []
    },
    {
      "cell_type": "code",
      "metadata": {
        "id": "hoO58cPhBFJq"
      },
      "source": [
        "final_df = final_df.reset_index()"
      ],
      "execution_count": 125,
      "outputs": []
    },
    {
      "cell_type": "code",
      "metadata": {
        "colab": {
          "base_uri": "https://localhost:8080/",
          "height": 206
        },
        "id": "CwV3brWjA9kj",
        "outputId": "bf6996b7-3b3e-4fe3-a849-4d58f39fab62"
      },
      "source": [
        "final_df.tail(5)"
      ],
      "execution_count": 126,
      "outputs": [
        {
          "output_type": "execute_result",
          "data": {
            "text/html": [
              "<div>\n",
              "<style scoped>\n",
              "    .dataframe tbody tr th:only-of-type {\n",
              "        vertical-align: middle;\n",
              "    }\n",
              "\n",
              "    .dataframe tbody tr th {\n",
              "        vertical-align: top;\n",
              "    }\n",
              "\n",
              "    .dataframe thead th {\n",
              "        text-align: right;\n",
              "    }\n",
              "</style>\n",
              "<table border=\"1\" class=\"dataframe\">\n",
              "  <thead>\n",
              "    <tr style=\"text-align: right;\">\n",
              "      <th></th>\n",
              "      <th>index</th>\n",
              "      <th>post_id</th>\n",
              "      <th>click_time</th>\n",
              "      <th>click_post_count</th>\n",
              "      <th>tag</th>\n",
              "      <th>reorder_time</th>\n",
              "      <th>post_publish_time</th>\n",
              "      <th>post_retire_time</th>\n",
              "    </tr>\n",
              "  </thead>\n",
              "  <tbody>\n",
              "    <tr>\n",
              "      <th>7320</th>\n",
              "      <td>1244618</td>\n",
              "      <td>gXzC9prE</td>\n",
              "      <td>5/7/2020 18:00</td>\n",
              "      <td>0</td>\n",
              "      <td>reorder</td>\n",
              "      <td>5/7/2020 16:05</td>\n",
              "      <td>5/7/2020 13:48</td>\n",
              "      <td>5/7/2020 16:28</td>\n",
              "    </tr>\n",
              "    <tr>\n",
              "      <th>7321</th>\n",
              "      <td>1244627</td>\n",
              "      <td>gXlypm15</td>\n",
              "      <td>5/3/2020 13:00</td>\n",
              "      <td>0</td>\n",
              "      <td>reorder</td>\n",
              "      <td>5/7/2020 10:20</td>\n",
              "      <td>4/26/2020 19:10</td>\n",
              "      <td>NaN</td>\n",
              "    </tr>\n",
              "    <tr>\n",
              "      <th>7322</th>\n",
              "      <td>1244639</td>\n",
              "      <td>gXkWywKl</td>\n",
              "      <td>5/1/2020 16:00</td>\n",
              "      <td>0</td>\n",
              "      <td>reorder</td>\n",
              "      <td>5/1/2020 8:24</td>\n",
              "      <td>4/25/2020 16:38</td>\n",
              "      <td>5/1/2020 11:32</td>\n",
              "    </tr>\n",
              "    <tr>\n",
              "      <th>7323</th>\n",
              "      <td>1244654</td>\n",
              "      <td>gXsmfEBU</td>\n",
              "      <td>5/2/2020 13:00</td>\n",
              "      <td>0</td>\n",
              "      <td>reorder</td>\n",
              "      <td>5/2/2020 11:53</td>\n",
              "      <td>5/2/2020 9:16</td>\n",
              "      <td>5/2/2020 14:28</td>\n",
              "    </tr>\n",
              "    <tr>\n",
              "      <th>7324</th>\n",
              "      <td>1244661</td>\n",
              "      <td>gXlWeLPP</td>\n",
              "      <td>5/3/2020 17:00</td>\n",
              "      <td>0</td>\n",
              "      <td>urgent-reorder</td>\n",
              "      <td>5/3/2020 14:30</td>\n",
              "      <td>4/27/2020 0:26</td>\n",
              "      <td>5/3/2020 22:25</td>\n",
              "    </tr>\n",
              "  </tbody>\n",
              "</table>\n",
              "</div>"
            ],
            "text/plain": [
              "        index   post_id  ... post_publish_time  post_retire_time\n",
              "7320  1244618  gXzC9prE  ...    5/7/2020 13:48    5/7/2020 16:28\n",
              "7321  1244627  gXlypm15  ...   4/26/2020 19:10               NaN\n",
              "7322  1244639  gXkWywKl  ...   4/25/2020 16:38    5/1/2020 11:32\n",
              "7323  1244654  gXsmfEBU  ...     5/2/2020 9:16    5/2/2020 14:28\n",
              "7324  1244661  gXlWeLPP  ...    4/27/2020 0:26    5/3/2020 22:25\n",
              "\n",
              "[5 rows x 8 columns]"
            ]
          },
          "metadata": {
            "tags": []
          },
          "execution_count": 126
        }
      ]
    },
    {
      "cell_type": "code",
      "metadata": {
        "colab": {
          "base_uri": "https://localhost:8080/",
          "height": 206
        },
        "id": "7frLoiApCRKB",
        "outputId": "57449877-7e86-43bd-9ff9-0fec5e2906bb"
      },
      "source": [
        "clean_data = final_df[['click_post_count', 'tag']]\n",
        "clean_data.head(5)"
      ],
      "execution_count": 127,
      "outputs": [
        {
          "output_type": "execute_result",
          "data": {
            "text/html": [
              "<div>\n",
              "<style scoped>\n",
              "    .dataframe tbody tr th:only-of-type {\n",
              "        vertical-align: middle;\n",
              "    }\n",
              "\n",
              "    .dataframe tbody tr th {\n",
              "        vertical-align: top;\n",
              "    }\n",
              "\n",
              "    .dataframe thead th {\n",
              "        text-align: right;\n",
              "    }\n",
              "</style>\n",
              "<table border=\"1\" class=\"dataframe\">\n",
              "  <thead>\n",
              "    <tr style=\"text-align: right;\">\n",
              "      <th></th>\n",
              "      <th>click_post_count</th>\n",
              "      <th>tag</th>\n",
              "    </tr>\n",
              "  </thead>\n",
              "  <tbody>\n",
              "    <tr>\n",
              "      <th>0</th>\n",
              "      <td>2031</td>\n",
              "      <td>urgent-reorder</td>\n",
              "    </tr>\n",
              "    <tr>\n",
              "      <th>1</th>\n",
              "      <td>3265</td>\n",
              "      <td>urgent-reorder</td>\n",
              "    </tr>\n",
              "    <tr>\n",
              "      <th>2</th>\n",
              "      <td>1977</td>\n",
              "      <td>reorder</td>\n",
              "    </tr>\n",
              "    <tr>\n",
              "      <th>3</th>\n",
              "      <td>783</td>\n",
              "      <td>reorder</td>\n",
              "    </tr>\n",
              "    <tr>\n",
              "      <th>4</th>\n",
              "      <td>11222</td>\n",
              "      <td>reorder</td>\n",
              "    </tr>\n",
              "  </tbody>\n",
              "</table>\n",
              "</div>"
            ],
            "text/plain": [
              "   click_post_count             tag\n",
              "0              2031  urgent-reorder\n",
              "1              3265  urgent-reorder\n",
              "2              1977         reorder\n",
              "3               783         reorder\n",
              "4             11222         reorder"
            ]
          },
          "metadata": {
            "tags": []
          },
          "execution_count": 127
        }
      ]
    },
    {
      "cell_type": "code",
      "metadata": {
        "colab": {
          "base_uri": "https://localhost:8080/",
          "height": 714
        },
        "id": "xNqoHCGUG_3h",
        "outputId": "37a94af0-5037-4b68-8d65-7cdf089c63eb"
      },
      "source": [
        "# how many orders and how many urgent reorders.\n",
        "import seaborn as sns\n",
        "\n",
        "sns.set(rc={'figure.figsize':(10,10)})\n",
        "clean_data['tag'].value_counts().plot(kind='bar',fontsize=15)"
      ],
      "execution_count": 128,
      "outputs": [
        {
          "output_type": "execute_result",
          "data": {
            "text/plain": [
              "<matplotlib.axes._subplots.AxesSubplot at 0x7f2bc634e8d0>"
            ]
          },
          "metadata": {
            "tags": []
          },
          "execution_count": 128
        },
        {
          "output_type": "display_data",
          "data": {
            "image/png": "[encoded data removed]",
            "text/plain": [
              "<Figure size 720x720 with 1 Axes>"
            ]
          },
          "metadata": {
            "tags": []
          }
        }
      ]
    },
    {
      "cell_type": "code",
      "metadata": {
        "id": "7vHW8RT9I-ml"
      },
      "source": [
        "# remove outliers so that plots are nicer\n",
        "\n",
        "clean_data = clean_data[clean_data.click_post_count < clean_data.click_post_count.quantile(.85)]"
      ],
      "execution_count": 129,
      "outputs": []
    },
    {
      "cell_type": "code",
      "metadata": {
        "colab": {
          "base_uri": "https://localhost:8080/",
          "height": 619
        },
        "id": "kCMP_TfMDB55",
        "outputId": "1736ad3c-81a9-4bfe-b4c6-cbb71aed4bf2"
      },
      "source": [
        "from matplotlib import pyplot as plt\n",
        "import seaborn as sns\n",
        "\n",
        "sns.displot(clean_data, kde=True, height=8.27, aspect=11.7/8.27)\n"
      ],
      "execution_count": 130,
      "outputs": [
        {
          "output_type": "execute_result",
          "data": {
            "text/plain": [
              "<seaborn.axisgrid.FacetGrid at 0x7f2bc683e410>"
            ]
          },
          "metadata": {
            "tags": []
          },
          "execution_count": 130
        },
        {
          "output_type": "display_data",
          "data": {
            "image/png": "[encoded data removed]",
            "text/plain": [
              "<Figure size 972.875x595.44 with 1 Axes>"
            ]
          },
          "metadata": {
            "tags": []
          }
        }
      ]
    },
    {
      "cell_type": "code",
      "metadata": {
        "colab": {
          "base_uri": "https://localhost:8080/",
          "height": 456
        },
        "id": "MaAvBOx9E5DD",
        "outputId": "939c481a-dd09-4782-c68f-a2ccf3d0e6f7"
      },
      "source": [
        "sns.jointplot(x='click_post_count', y='tag', data=clean_data)"
      ],
      "execution_count": 131,
      "outputs": [
        {
          "output_type": "execute_result",
          "data": {
            "text/plain": [
              "<seaborn.axisgrid.JointGrid at 0x7f2bc61ca550>"
            ]
          },
          "metadata": {
            "tags": []
          },
          "execution_count": 131
        },
        {
          "output_type": "display_data",
          "data": {
            "image/png": "[encoded data removed]",
            "text/plain": [
              "<Figure size 432x432 with 3 Axes>"
            ]
          },
          "metadata": {
            "tags": []
          }
        }
      ]
    },
    {
      "cell_type": "code",
      "metadata": {
        "colab": {
          "base_uri": "https://localhost:8080/",
          "height": 630
        },
        "id": "nqJKfpsDFGIp",
        "outputId": "b16614b8-0536-4d5b-8f6a-4749b3782f26"
      },
      "source": [
        "sns.stripplot(x=\"tag\", y=\"click_post_count\", data=clean_data, jitter=False)"
      ],
      "execution_count": 132,
      "outputs": [
        {
          "output_type": "execute_result",
          "data": {
            "text/plain": [
              "<matplotlib.axes._subplots.AxesSubplot at 0x7f2bc6035910>"
            ]
          },
          "metadata": {
            "tags": []
          },
          "execution_count": 132
        },
        {
          "output_type": "display_data",
          "data": {
            "image/png": "[encoded data removed]",
            "text/plain": [
              "<Figure size 720x720 with 1 Axes>"
            ]
          },
          "metadata": {
            "tags": []
          }
        }
      ]
    },
    {
      "cell_type": "code",
      "metadata": {
        "colab": {
          "base_uri": "https://localhost:8080/",
          "height": 630
        },
        "id": "ZINWT3UyFvPa",
        "outputId": "30a048fe-e847-48a5-c829-4cb239e6cf9f"
      },
      "source": [
        "sns.boxplot(x=\"tag\", y=\"click_post_count\", data=clean_data)"
      ],
      "execution_count": 133,
      "outputs": [
        {
          "output_type": "execute_result",
          "data": {
            "text/plain": [
              "<matplotlib.axes._subplots.AxesSubplot at 0x7f2bc6048fd0>"
            ]
          },
          "metadata": {
            "tags": []
          },
          "execution_count": 133
        },
        {
          "output_type": "display_data",
          "data": {
            "image/png": "[encoded data removed]",
            "text/plain": [
              "<Figure size 720x720 with 1 Axes>"
            ]
          },
          "metadata": {
            "tags": []
          }
        }
      ]
    },
    {
      "cell_type": "code",
      "metadata": {
        "colab": {
          "base_uri": "https://localhost:8080/",
          "height": 631
        },
        "id": "IS0FCmuIFxmj",
        "outputId": "6b36c22c-75f9-40ce-9728-378a63c47da6"
      },
      "source": [
        "sns.violinplot(x=\"tag\", y=\"click_post_count\", data=clean_data)"
      ],
      "execution_count": 134,
      "outputs": [
        {
          "output_type": "execute_result",
          "data": {
            "text/plain": [
              "<matplotlib.axes._subplots.AxesSubplot at 0x7f2bc6064a50>"
            ]
          },
          "metadata": {
            "tags": []
          },
          "execution_count": 134
        },
        {
          "output_type": "display_data",
          "data": {
            "image/png": "[encoded data removed]",
            "text/plain": [
              "<Figure size 720x720 with 1 Axes>"
            ]
          },
          "metadata": {
            "tags": []
          }
        }
      ]
    },
    {
      "cell_type": "code",
      "metadata": {
        "id": "qdgwZOvELFWq"
      },
      "source": [
        "urgent_reorder_data = clean_data[clean_data['tag']=='urgent-reorder']['click_post_count']\n",
        "reorder_data = clean_data[clean_data['tag']=='reorder']['click_post_count']"
      ],
      "execution_count": 135,
      "outputs": []
    },
    {
      "cell_type": "code",
      "metadata": {
        "colab": {
          "base_uri": "https://localhost:8080/"
        },
        "id": "szO0oz2aLb28",
        "outputId": "bf71c1fd-3a82-4977-d666-ff0ae52f1f2d"
      },
      "source": [
        "# get the datas as seperate entities to do a ttest\n",
        "\n",
        "urgent_reorder_data.shape, reorder_data.shape"
      ],
      "execution_count": 136,
      "outputs": [
        {
          "output_type": "execute_result",
          "data": {
            "text/plain": [
              "((2711,), (3515,))"
            ]
          },
          "metadata": {
            "tags": []
          },
          "execution_count": 136
        }
      ]
    },
    {
      "cell_type": "code",
      "metadata": {
        "colab": {
          "base_uri": "https://localhost:8080/"
        },
        "id": "yw7SsP78LkYD",
        "outputId": "22753482-4469-4dfd-e9c0-633f8729c5de"
      },
      "source": [
        "from scipy.stats import ttest_ind\n",
        "\n",
        "output = ttest_ind(urgent_reorder_data, reorder_data)\n",
        "output"
      ],
      "execution_count": 137,
      "outputs": [
        {
          "output_type": "execute_result",
          "data": {
            "text/plain": [
              "Ttest_indResult(statistic=2.436337771675654, pvalue=0.014864674995112794)"
            ]
          },
          "metadata": {
            "tags": []
          },
          "execution_count": 137
        }
      ]
    },
    {
      "cell_type": "code",
      "metadata": {
        "colab": {
          "base_uri": "https://localhost:8080/"
        },
        "id": "tU_W1BkOMTXb",
        "outputId": "c01c651f-0fcb-4c14-ad72-713a3c4028b3"
      },
      "source": [
        "np.mean(urgent_reorder_data)"
      ],
      "execution_count": 138,
      "outputs": [
        {
          "output_type": "execute_result",
          "data": {
            "text/plain": [
              "253.17263002582072"
            ]
          },
          "metadata": {
            "tags": []
          },
          "execution_count": 138
        }
      ]
    },
    {
      "cell_type": "code",
      "metadata": {
        "colab": {
          "base_uri": "https://localhost:8080/"
        },
        "id": "GISXatTtMV4y",
        "outputId": "6ba690a3-4aee-49c7-c1aa-32ee26a19e8f"
      },
      "source": [
        "np.mean(reorder_data)"
      ],
      "execution_count": 139,
      "outputs": [
        {
          "output_type": "execute_result",
          "data": {
            "text/plain": [
              "228.54054054054055"
            ]
          },
          "metadata": {
            "tags": []
          },
          "execution_count": 139
        }
      ]
    },
    {
      "cell_type": "code",
      "metadata": {
        "id": "Y7kvGjwENhua",
        "colab": {
          "base_uri": "https://localhost:8080/",
          "height": 619
        },
        "outputId": "9c10ee5a-76a3-4c80-9d75-372de27be1ea"
      },
      "source": [
        "sns.displot(urgent_reorder_data, kde=True, height=8.27, aspect=11.7/8.27)"
      ],
      "execution_count": 140,
      "outputs": [
        {
          "output_type": "execute_result",
          "data": {
            "text/plain": [
              "<seaborn.axisgrid.FacetGrid at 0x7f2bc5f6b290>"
            ]
          },
          "metadata": {
            "tags": []
          },
          "execution_count": 140
        },
        {
          "output_type": "display_data",
          "data": {
            "image/png": "[encoded data removed]",
            "text/plain": [
              "<Figure size 842.4x595.44 with 1 Axes>"
            ]
          },
          "metadata": {
            "tags": []
          }
        }
      ]
    },
    {
      "cell_type": "code",
      "metadata": {
        "id": "Z8-FbNvaNjFL",
        "colab": {
          "base_uri": "https://localhost:8080/",
          "height": 619
        },
        "outputId": "3cb1622a-4448-4866-9531-be7d3e1e6601"
      },
      "source": [
        "sns.displot(reorder_data, kde=True, height=8.27, aspect=11.7/8.27)"
      ],
      "execution_count": 141,
      "outputs": [
        {
          "output_type": "execute_result",
          "data": {
            "text/plain": [
              "<seaborn.axisgrid.FacetGrid at 0x7f2bc5e8f310>"
            ]
          },
          "metadata": {
            "tags": []
          },
          "execution_count": 141
        },
        {
          "output_type": "display_data",
          "data": {
            "image/png": "[encoded data removed]",
            "text/plain": [
              "<Figure size 842.4x595.44 with 1 Axes>"
            ]
          },
          "metadata": {
            "tags": []
          }
        }
      ]
    },
    {
      "cell_type": "code",
      "metadata": {
        "id": "esApam_hMXmq"
      },
      "source": [
        "# the reorder data has a significant increase in mean.\n",
        "# the end."
      ],
      "execution_count": 225,
      "outputs": []
    },
    {
      "cell_type": "markdown",
      "metadata": {
        "id": "jnkFKYWM20FW"
      },
      "source": [
        "**Reorder Duration**"
      ]
    },
    {
      "cell_type": "code",
      "metadata": {
        "colab": {
          "base_uri": "https://localhost:8080/",
          "height": 618
        },
        "id": "jxoJwyok24Wj",
        "outputId": "1948ccb9-295e-4809-f128-b17d263fe579"
      },
      "source": [
        "import pandas as pd\n",
        "df = final_df\n",
        "df[[\"reorder_time\", \"post_publish_time\", \"post_retire_time\"]] = df[[\"reorder_time\", \"post_publish_time\", \"post_retire_time\"]].apply(pd.to_datetime)\n",
        "df"
      ],
      "execution_count": 238,
      "outputs": [
        {
          "output_type": "execute_result",
          "data": {
            "text/html": [
              "<div>\n",
              "<style scoped>\n",
              "    .dataframe tbody tr th:only-of-type {\n",
              "        vertical-align: middle;\n",
              "    }\n",
              "\n",
              "    .dataframe tbody tr th {\n",
              "        vertical-align: top;\n",
              "    }\n",
              "\n",
              "    .dataframe thead th {\n",
              "        text-align: right;\n",
              "    }\n",
              "</style>\n",
              "<table border=\"1\" class=\"dataframe\">\n",
              "  <thead>\n",
              "    <tr style=\"text-align: right;\">\n",
              "      <th></th>\n",
              "      <th>index</th>\n",
              "      <th>post_id</th>\n",
              "      <th>click_time</th>\n",
              "      <th>click_post_count</th>\n",
              "      <th>tag</th>\n",
              "      <th>reorder_time</th>\n",
              "      <th>post_publish_time</th>\n",
              "      <th>post_retire_time</th>\n",
              "      <th>Day</th>\n",
              "      <th>Month</th>\n",
              "      <th>Year</th>\n",
              "      <th>Start_hour</th>\n",
              "      <th>Start_minute</th>\n",
              "      <th>Start_second</th>\n",
              "      <th>Start_weekday</th>\n",
              "      <th>Start_week_of_year</th>\n",
              "      <th>Duration</th>\n",
              "      <th>Duration_days</th>\n",
              "      <th>Duration_minutes</th>\n",
              "      <th>Duration_seconds</th>\n",
              "    </tr>\n",
              "  </thead>\n",
              "  <tbody>\n",
              "    <tr>\n",
              "      <th>0</th>\n",
              "      <td>0</td>\n",
              "      <td>gXvC9ucx</td>\n",
              "      <td>5/7/2020 0:00</td>\n",
              "      <td>2031</td>\n",
              "      <td>urgent-reorder</td>\n",
              "      <td>2020-05-05 12:30:00</td>\n",
              "      <td>2020-05-04 12:53:00</td>\n",
              "      <td>2020-05-07 00:56:00</td>\n",
              "      <td>5</td>\n",
              "      <td>5</td>\n",
              "      <td>2020</td>\n",
              "      <td>12</td>\n",
              "      <td>30</td>\n",
              "      <td>0</td>\n",
              "      <td>1</td>\n",
              "      <td>19</td>\n",
              "      <td>1 days 12:26:00</td>\n",
              "      <td>1.518056</td>\n",
              "      <td>2186.0</td>\n",
              "      <td>131160.0</td>\n",
              "    </tr>\n",
              "    <tr>\n",
              "      <th>1</th>\n",
              "      <td>64</td>\n",
              "      <td>gXluVlHC</td>\n",
              "      <td>5/7/2020 0:00</td>\n",
              "      <td>3265</td>\n",
              "      <td>urgent-reorder</td>\n",
              "      <td>2020-05-05 02:37:00</td>\n",
              "      <td>2020-04-26 14:35:00</td>\n",
              "      <td>2020-05-13 00:10:00</td>\n",
              "      <td>5</td>\n",
              "      <td>5</td>\n",
              "      <td>2020</td>\n",
              "      <td>2</td>\n",
              "      <td>37</td>\n",
              "      <td>0</td>\n",
              "      <td>1</td>\n",
              "      <td>19</td>\n",
              "      <td>7 days 21:33:00</td>\n",
              "      <td>7.897917</td>\n",
              "      <td>11373.0</td>\n",
              "      <td>682380.0</td>\n",
              "    </tr>\n",
              "    <tr>\n",
              "      <th>2</th>\n",
              "      <td>294</td>\n",
              "      <td>gXxugqam</td>\n",
              "      <td>5/7/2020 0:00</td>\n",
              "      <td>1977</td>\n",
              "      <td>reorder</td>\n",
              "      <td>2020-05-08 12:41:00</td>\n",
              "      <td>2020-05-05 11:18:00</td>\n",
              "      <td>2020-05-11 12:52:00</td>\n",
              "      <td>8</td>\n",
              "      <td>5</td>\n",
              "      <td>2020</td>\n",
              "      <td>12</td>\n",
              "      <td>41</td>\n",
              "      <td>0</td>\n",
              "      <td>4</td>\n",
              "      <td>19</td>\n",
              "      <td>3 days 00:11:00</td>\n",
              "      <td>3.007639</td>\n",
              "      <td>4331.0</td>\n",
              "      <td>259860.0</td>\n",
              "    </tr>\n",
              "    <tr>\n",
              "      <th>3</th>\n",
              "      <td>411</td>\n",
              "      <td>gXy6Jn2Y</td>\n",
              "      <td>5/7/2020 0:00</td>\n",
              "      <td>783</td>\n",
              "      <td>reorder</td>\n",
              "      <td>2020-05-07 13:43:00</td>\n",
              "      <td>2020-05-06 16:06:00</td>\n",
              "      <td>2020-05-08 23:17:00</td>\n",
              "      <td>7</td>\n",
              "      <td>5</td>\n",
              "      <td>2020</td>\n",
              "      <td>13</td>\n",
              "      <td>43</td>\n",
              "      <td>0</td>\n",
              "      <td>3</td>\n",
              "      <td>19</td>\n",
              "      <td>1 days 09:34:00</td>\n",
              "      <td>1.398611</td>\n",
              "      <td>2014.0</td>\n",
              "      <td>120840.0</td>\n",
              "    </tr>\n",
              "    <tr>\n",
              "      <th>4</th>\n",
              "      <td>468</td>\n",
              "      <td>gXo2A5D9</td>\n",
              "      <td>5/7/2020 0:00</td>\n",
              "      <td>11222</td>\n",
              "      <td>reorder</td>\n",
              "      <td>2020-05-01 05:09:00</td>\n",
              "      <td>2020-04-28 15:37:00</td>\n",
              "      <td>2020-05-09 17:23:00</td>\n",
              "      <td>1</td>\n",
              "      <td>5</td>\n",
              "      <td>2020</td>\n",
              "      <td>5</td>\n",
              "      <td>9</td>\n",
              "      <td>0</td>\n",
              "      <td>4</td>\n",
              "      <td>18</td>\n",
              "      <td>8 days 12:14:00</td>\n",
              "      <td>8.509722</td>\n",
              "      <td>12254.0</td>\n",
              "      <td>735240.0</td>\n",
              "    </tr>\n",
              "    <tr>\n",
              "      <th>...</th>\n",
              "      <td>...</td>\n",
              "      <td>...</td>\n",
              "      <td>...</td>\n",
              "      <td>...</td>\n",
              "      <td>...</td>\n",
              "      <td>...</td>\n",
              "      <td>...</td>\n",
              "      <td>...</td>\n",
              "      <td>...</td>\n",
              "      <td>...</td>\n",
              "      <td>...</td>\n",
              "      <td>...</td>\n",
              "      <td>...</td>\n",
              "      <td>...</td>\n",
              "      <td>...</td>\n",
              "      <td>...</td>\n",
              "      <td>...</td>\n",
              "      <td>...</td>\n",
              "      <td>...</td>\n",
              "      <td>...</td>\n",
              "    </tr>\n",
              "    <tr>\n",
              "      <th>7320</th>\n",
              "      <td>1244618</td>\n",
              "      <td>gXzC9prE</td>\n",
              "      <td>5/7/2020 18:00</td>\n",
              "      <td>0</td>\n",
              "      <td>reorder</td>\n",
              "      <td>2020-05-07 16:05:00</td>\n",
              "      <td>2020-05-07 13:48:00</td>\n",
              "      <td>2020-05-07 16:28:00</td>\n",
              "      <td>7</td>\n",
              "      <td>5</td>\n",
              "      <td>2020</td>\n",
              "      <td>16</td>\n",
              "      <td>5</td>\n",
              "      <td>0</td>\n",
              "      <td>3</td>\n",
              "      <td>19</td>\n",
              "      <td>0 days 00:23:00</td>\n",
              "      <td>0.015972</td>\n",
              "      <td>23.0</td>\n",
              "      <td>1380.0</td>\n",
              "    </tr>\n",
              "    <tr>\n",
              "      <th>7321</th>\n",
              "      <td>1244627</td>\n",
              "      <td>gXlypm15</td>\n",
              "      <td>5/3/2020 13:00</td>\n",
              "      <td>0</td>\n",
              "      <td>reorder</td>\n",
              "      <td>2020-05-07 10:20:00</td>\n",
              "      <td>2020-04-26 19:10:00</td>\n",
              "      <td>NaT</td>\n",
              "      <td>7</td>\n",
              "      <td>5</td>\n",
              "      <td>2020</td>\n",
              "      <td>10</td>\n",
              "      <td>20</td>\n",
              "      <td>0</td>\n",
              "      <td>3</td>\n",
              "      <td>19</td>\n",
              "      <td>NaT</td>\n",
              "      <td>NaN</td>\n",
              "      <td>NaN</td>\n",
              "      <td>NaN</td>\n",
              "    </tr>\n",
              "    <tr>\n",
              "      <th>7322</th>\n",
              "      <td>1244639</td>\n",
              "      <td>gXkWywKl</td>\n",
              "      <td>5/1/2020 16:00</td>\n",
              "      <td>985</td>\n",
              "      <td>reorder</td>\n",
              "      <td>2020-05-01 08:24:00</td>\n",
              "      <td>2020-04-25 16:38:00</td>\n",
              "      <td>2020-05-01 11:32:00</td>\n",
              "      <td>1</td>\n",
              "      <td>5</td>\n",
              "      <td>2020</td>\n",
              "      <td>8</td>\n",
              "      <td>24</td>\n",
              "      <td>0</td>\n",
              "      <td>4</td>\n",
              "      <td>18</td>\n",
              "      <td>0 days 03:08:00</td>\n",
              "      <td>0.130556</td>\n",
              "      <td>188.0</td>\n",
              "      <td>11280.0</td>\n",
              "    </tr>\n",
              "    <tr>\n",
              "      <th>7323</th>\n",
              "      <td>1244654</td>\n",
              "      <td>gXsmfEBU</td>\n",
              "      <td>5/2/2020 13:00</td>\n",
              "      <td>325</td>\n",
              "      <td>reorder</td>\n",
              "      <td>2020-05-02 11:53:00</td>\n",
              "      <td>2020-05-02 09:16:00</td>\n",
              "      <td>2020-05-02 14:28:00</td>\n",
              "      <td>2</td>\n",
              "      <td>5</td>\n",
              "      <td>2020</td>\n",
              "      <td>11</td>\n",
              "      <td>53</td>\n",
              "      <td>0</td>\n",
              "      <td>5</td>\n",
              "      <td>18</td>\n",
              "      <td>0 days 02:35:00</td>\n",
              "      <td>0.107639</td>\n",
              "      <td>155.0</td>\n",
              "      <td>9300.0</td>\n",
              "    </tr>\n",
              "    <tr>\n",
              "      <th>7324</th>\n",
              "      <td>1244661</td>\n",
              "      <td>gXlWeLPP</td>\n",
              "      <td>5/3/2020 17:00</td>\n",
              "      <td>232</td>\n",
              "      <td>urgent-reorder</td>\n",
              "      <td>2020-05-03 14:30:00</td>\n",
              "      <td>2020-04-27 00:26:00</td>\n",
              "      <td>2020-05-03 22:25:00</td>\n",
              "      <td>3</td>\n",
              "      <td>5</td>\n",
              "      <td>2020</td>\n",
              "      <td>14</td>\n",
              "      <td>30</td>\n",
              "      <td>0</td>\n",
              "      <td>6</td>\n",
              "      <td>18</td>\n",
              "      <td>0 days 07:55:00</td>\n",
              "      <td>0.329861</td>\n",
              "      <td>475.0</td>\n",
              "      <td>28500.0</td>\n",
              "    </tr>\n",
              "  </tbody>\n",
              "</table>\n",
              "<p>7325 rows × 20 columns</p>\n",
              "</div>"
            ],
            "text/plain": [
              "        index   post_id  ... Duration_minutes  Duration_seconds\n",
              "0           0  gXvC9ucx  ...           2186.0          131160.0\n",
              "1          64  gXluVlHC  ...          11373.0          682380.0\n",
              "2         294  gXxugqam  ...           4331.0          259860.0\n",
              "3         411  gXy6Jn2Y  ...           2014.0          120840.0\n",
              "4         468  gXo2A5D9  ...          12254.0          735240.0\n",
              "...       ...       ...  ...              ...               ...\n",
              "7320  1244618  gXzC9prE  ...             23.0            1380.0\n",
              "7321  1244627  gXlypm15  ...              NaN               NaN\n",
              "7322  1244639  gXkWywKl  ...            188.0           11280.0\n",
              "7323  1244654  gXsmfEBU  ...            155.0            9300.0\n",
              "7324  1244661  gXlWeLPP  ...            475.0           28500.0\n",
              "\n",
              "[7325 rows x 20 columns]"
            ]
          },
          "metadata": {
            "tags": []
          },
          "execution_count": 238
        }
      ]
    },
    {
      "cell_type": "code",
      "metadata": {
        "colab": {
          "base_uri": "https://localhost:8080/"
        },
        "id": "tvc1I4z95A8P",
        "outputId": "b1109cb9-bd73-47dc-a9e8-718a5abc19b7"
      },
      "source": [
        "df['Day'] = df['reorder_time'].dt.day\n",
        "# month\n",
        "df['Month'] = df['reorder_time'].dt.month\n",
        "# year\n",
        "df['Year'] = df['reorder_time'].dt.year\n",
        "# hour\n",
        "df['Start_hour'] = df['reorder_time'].dt.hour\n",
        "# minute\n",
        "df['Start_minute'] = df['reorder_time'].dt.minute\n",
        "# second\n",
        "df['Start_second'] = df['reorder_time'].dt.second\n",
        "# Monday is 0 and Sunday is 6\n",
        "df['Start_weekday'] = df['reorder_time'].dt.weekday\n",
        "# week of the year\n",
        "df['Start_week_of_year'] = df['reorder_time'].dt.week\n",
        "# duration\n",
        "df['Duration'] = df['post_retire_time']-df['reorder_time']"
      ],
      "execution_count": 43,
      "outputs": [
        {
          "output_type": "stream",
          "text": [
            "/usr/local/lib/python3.7/dist-packages/ipykernel_launcher.py:15: FutureWarning: Series.dt.weekofyear and Series.dt.week have been deprecated.  Please use Series.dt.isocalendar().week instead.\n",
            "  from ipykernel import kernelapp as app\n"
          ],
          "name": "stderr"
        }
      ]
    },
    {
      "cell_type": "code",
      "metadata": {
        "colab": {
          "base_uri": "https://localhost:8080/",
          "height": 618
        },
        "id": "yFJVtNCl5LKH",
        "outputId": "dd3a9280-c854-40d0-eb91-22bc4f3768b2"
      },
      "source": [
        "from datetime import timedelta\n",
        "\n",
        "df['Duration_days'] = df['Duration']/timedelta(days=1)\n",
        "df['Duration_minutes'] = df['Duration']/timedelta(minutes=1)\n",
        "df['Duration_seconds'] = df['Duration']/timedelta(seconds=1)\n",
        "df"
      ],
      "execution_count": 44,
      "outputs": [
        {
          "output_type": "execute_result",
          "data": {
            "text/html": [
              "<div>\n",
              "<style scoped>\n",
              "    .dataframe tbody tr th:only-of-type {\n",
              "        vertical-align: middle;\n",
              "    }\n",
              "\n",
              "    .dataframe tbody tr th {\n",
              "        vertical-align: top;\n",
              "    }\n",
              "\n",
              "    .dataframe thead th {\n",
              "        text-align: right;\n",
              "    }\n",
              "</style>\n",
              "<table border=\"1\" class=\"dataframe\">\n",
              "  <thead>\n",
              "    <tr style=\"text-align: right;\">\n",
              "      <th></th>\n",
              "      <th>index</th>\n",
              "      <th>post_id</th>\n",
              "      <th>click_time</th>\n",
              "      <th>click_post_count</th>\n",
              "      <th>tag</th>\n",
              "      <th>reorder_time</th>\n",
              "      <th>post_publish_time</th>\n",
              "      <th>post_retire_time</th>\n",
              "      <th>Day</th>\n",
              "      <th>Month</th>\n",
              "      <th>Year</th>\n",
              "      <th>Start_hour</th>\n",
              "      <th>Start_minute</th>\n",
              "      <th>Start_second</th>\n",
              "      <th>Start_weekday</th>\n",
              "      <th>Start_week_of_year</th>\n",
              "      <th>Duration</th>\n",
              "      <th>Duration_days</th>\n",
              "      <th>Duration_minutes</th>\n",
              "      <th>Duration_seconds</th>\n",
              "    </tr>\n",
              "  </thead>\n",
              "  <tbody>\n",
              "    <tr>\n",
              "      <th>0</th>\n",
              "      <td>0</td>\n",
              "      <td>gXvC9ucx</td>\n",
              "      <td>5/7/2020 0:00</td>\n",
              "      <td>2031</td>\n",
              "      <td>urgent-reorder</td>\n",
              "      <td>2020-05-05 12:30:00</td>\n",
              "      <td>2020-05-04 12:53:00</td>\n",
              "      <td>2020-05-07 00:56:00</td>\n",
              "      <td>5</td>\n",
              "      <td>5</td>\n",
              "      <td>2020</td>\n",
              "      <td>12</td>\n",
              "      <td>30</td>\n",
              "      <td>0</td>\n",
              "      <td>1</td>\n",
              "      <td>19</td>\n",
              "      <td>1 days 12:26:00</td>\n",
              "      <td>1.518056</td>\n",
              "      <td>2186.0</td>\n",
              "      <td>131160.0</td>\n",
              "    </tr>\n",
              "    <tr>\n",
              "      <th>1</th>\n",
              "      <td>64</td>\n",
              "      <td>gXluVlHC</td>\n",
              "      <td>5/7/2020 0:00</td>\n",
              "      <td>3265</td>\n",
              "      <td>urgent-reorder</td>\n",
              "      <td>2020-05-05 02:37:00</td>\n",
              "      <td>2020-04-26 14:35:00</td>\n",
              "      <td>2020-05-13 00:10:00</td>\n",
              "      <td>5</td>\n",
              "      <td>5</td>\n",
              "      <td>2020</td>\n",
              "      <td>2</td>\n",
              "      <td>37</td>\n",
              "      <td>0</td>\n",
              "      <td>1</td>\n",
              "      <td>19</td>\n",
              "      <td>7 days 21:33:00</td>\n",
              "      <td>7.897917</td>\n",
              "      <td>11373.0</td>\n",
              "      <td>682380.0</td>\n",
              "    </tr>\n",
              "    <tr>\n",
              "      <th>2</th>\n",
              "      <td>294</td>\n",
              "      <td>gXxugqam</td>\n",
              "      <td>5/7/2020 0:00</td>\n",
              "      <td>1977</td>\n",
              "      <td>reorder</td>\n",
              "      <td>2020-05-08 12:41:00</td>\n",
              "      <td>2020-05-05 11:18:00</td>\n",
              "      <td>2020-05-11 12:52:00</td>\n",
              "      <td>8</td>\n",
              "      <td>5</td>\n",
              "      <td>2020</td>\n",
              "      <td>12</td>\n",
              "      <td>41</td>\n",
              "      <td>0</td>\n",
              "      <td>4</td>\n",
              "      <td>19</td>\n",
              "      <td>3 days 00:11:00</td>\n",
              "      <td>3.007639</td>\n",
              "      <td>4331.0</td>\n",
              "      <td>259860.0</td>\n",
              "    </tr>\n",
              "    <tr>\n",
              "      <th>3</th>\n",
              "      <td>411</td>\n",
              "      <td>gXy6Jn2Y</td>\n",
              "      <td>5/7/2020 0:00</td>\n",
              "      <td>783</td>\n",
              "      <td>reorder</td>\n",
              "      <td>2020-05-07 13:43:00</td>\n",
              "      <td>2020-05-06 16:06:00</td>\n",
              "      <td>2020-05-08 23:17:00</td>\n",
              "      <td>7</td>\n",
              "      <td>5</td>\n",
              "      <td>2020</td>\n",
              "      <td>13</td>\n",
              "      <td>43</td>\n",
              "      <td>0</td>\n",
              "      <td>3</td>\n",
              "      <td>19</td>\n",
              "      <td>1 days 09:34:00</td>\n",
              "      <td>1.398611</td>\n",
              "      <td>2014.0</td>\n",
              "      <td>120840.0</td>\n",
              "    </tr>\n",
              "    <tr>\n",
              "      <th>4</th>\n",
              "      <td>468</td>\n",
              "      <td>gXo2A5D9</td>\n",
              "      <td>5/7/2020 0:00</td>\n",
              "      <td>11222</td>\n",
              "      <td>reorder</td>\n",
              "      <td>2020-05-01 05:09:00</td>\n",
              "      <td>2020-04-28 15:37:00</td>\n",
              "      <td>2020-05-09 17:23:00</td>\n",
              "      <td>1</td>\n",
              "      <td>5</td>\n",
              "      <td>2020</td>\n",
              "      <td>5</td>\n",
              "      <td>9</td>\n",
              "      <td>0</td>\n",
              "      <td>4</td>\n",
              "      <td>18</td>\n",
              "      <td>8 days 12:14:00</td>\n",
              "      <td>8.509722</td>\n",
              "      <td>12254.0</td>\n",
              "      <td>735240.0</td>\n",
              "    </tr>\n",
              "    <tr>\n",
              "      <th>...</th>\n",
              "      <td>...</td>\n",
              "      <td>...</td>\n",
              "      <td>...</td>\n",
              "      <td>...</td>\n",
              "      <td>...</td>\n",
              "      <td>...</td>\n",
              "      <td>...</td>\n",
              "      <td>...</td>\n",
              "      <td>...</td>\n",
              "      <td>...</td>\n",
              "      <td>...</td>\n",
              "      <td>...</td>\n",
              "      <td>...</td>\n",
              "      <td>...</td>\n",
              "      <td>...</td>\n",
              "      <td>...</td>\n",
              "      <td>...</td>\n",
              "      <td>...</td>\n",
              "      <td>...</td>\n",
              "      <td>...</td>\n",
              "    </tr>\n",
              "    <tr>\n",
              "      <th>7320</th>\n",
              "      <td>1244618</td>\n",
              "      <td>gXzC9prE</td>\n",
              "      <td>5/7/2020 18:00</td>\n",
              "      <td>838</td>\n",
              "      <td>reorder</td>\n",
              "      <td>2020-05-07 16:05:00</td>\n",
              "      <td>2020-05-07 13:48:00</td>\n",
              "      <td>2020-05-07 16:28:00</td>\n",
              "      <td>7</td>\n",
              "      <td>5</td>\n",
              "      <td>2020</td>\n",
              "      <td>16</td>\n",
              "      <td>5</td>\n",
              "      <td>0</td>\n",
              "      <td>3</td>\n",
              "      <td>19</td>\n",
              "      <td>0 days 00:23:00</td>\n",
              "      <td>0.015972</td>\n",
              "      <td>23.0</td>\n",
              "      <td>1380.0</td>\n",
              "    </tr>\n",
              "    <tr>\n",
              "      <th>7321</th>\n",
              "      <td>1244627</td>\n",
              "      <td>gXlypm15</td>\n",
              "      <td>5/3/2020 13:00</td>\n",
              "      <td>0</td>\n",
              "      <td>reorder</td>\n",
              "      <td>2020-05-07 10:20:00</td>\n",
              "      <td>2020-04-26 19:10:00</td>\n",
              "      <td>NaT</td>\n",
              "      <td>7</td>\n",
              "      <td>5</td>\n",
              "      <td>2020</td>\n",
              "      <td>10</td>\n",
              "      <td>20</td>\n",
              "      <td>0</td>\n",
              "      <td>3</td>\n",
              "      <td>19</td>\n",
              "      <td>NaT</td>\n",
              "      <td>NaN</td>\n",
              "      <td>NaN</td>\n",
              "      <td>NaN</td>\n",
              "    </tr>\n",
              "    <tr>\n",
              "      <th>7322</th>\n",
              "      <td>1244639</td>\n",
              "      <td>gXkWywKl</td>\n",
              "      <td>5/1/2020 16:00</td>\n",
              "      <td>985</td>\n",
              "      <td>reorder</td>\n",
              "      <td>2020-05-01 08:24:00</td>\n",
              "      <td>2020-04-25 16:38:00</td>\n",
              "      <td>2020-05-01 11:32:00</td>\n",
              "      <td>1</td>\n",
              "      <td>5</td>\n",
              "      <td>2020</td>\n",
              "      <td>8</td>\n",
              "      <td>24</td>\n",
              "      <td>0</td>\n",
              "      <td>4</td>\n",
              "      <td>18</td>\n",
              "      <td>0 days 03:08:00</td>\n",
              "      <td>0.130556</td>\n",
              "      <td>188.0</td>\n",
              "      <td>11280.0</td>\n",
              "    </tr>\n",
              "    <tr>\n",
              "      <th>7323</th>\n",
              "      <td>1244654</td>\n",
              "      <td>gXsmfEBU</td>\n",
              "      <td>5/2/2020 13:00</td>\n",
              "      <td>325</td>\n",
              "      <td>reorder</td>\n",
              "      <td>2020-05-02 11:53:00</td>\n",
              "      <td>2020-05-02 09:16:00</td>\n",
              "      <td>2020-05-02 14:28:00</td>\n",
              "      <td>2</td>\n",
              "      <td>5</td>\n",
              "      <td>2020</td>\n",
              "      <td>11</td>\n",
              "      <td>53</td>\n",
              "      <td>0</td>\n",
              "      <td>5</td>\n",
              "      <td>18</td>\n",
              "      <td>0 days 02:35:00</td>\n",
              "      <td>0.107639</td>\n",
              "      <td>155.0</td>\n",
              "      <td>9300.0</td>\n",
              "    </tr>\n",
              "    <tr>\n",
              "      <th>7324</th>\n",
              "      <td>1244661</td>\n",
              "      <td>gXlWeLPP</td>\n",
              "      <td>5/3/2020 17:00</td>\n",
              "      <td>232</td>\n",
              "      <td>urgent-reorder</td>\n",
              "      <td>2020-05-03 14:30:00</td>\n",
              "      <td>2020-04-27 00:26:00</td>\n",
              "      <td>2020-05-03 22:25:00</td>\n",
              "      <td>3</td>\n",
              "      <td>5</td>\n",
              "      <td>2020</td>\n",
              "      <td>14</td>\n",
              "      <td>30</td>\n",
              "      <td>0</td>\n",
              "      <td>6</td>\n",
              "      <td>18</td>\n",
              "      <td>0 days 07:55:00</td>\n",
              "      <td>0.329861</td>\n",
              "      <td>475.0</td>\n",
              "      <td>28500.0</td>\n",
              "    </tr>\n",
              "  </tbody>\n",
              "</table>\n",
              "<p>7325 rows × 20 columns</p>\n",
              "</div>"
            ],
            "text/plain": [
              "        index   post_id  ... Duration_minutes  Duration_seconds\n",
              "0           0  gXvC9ucx  ...           2186.0          131160.0\n",
              "1          64  gXluVlHC  ...          11373.0          682380.0\n",
              "2         294  gXxugqam  ...           4331.0          259860.0\n",
              "3         411  gXy6Jn2Y  ...           2014.0          120840.0\n",
              "4         468  gXo2A5D9  ...          12254.0          735240.0\n",
              "...       ...       ...  ...              ...               ...\n",
              "7320  1244618  gXzC9prE  ...             23.0            1380.0\n",
              "7321  1244627  gXlypm15  ...              NaN               NaN\n",
              "7322  1244639  gXkWywKl  ...            188.0           11280.0\n",
              "7323  1244654  gXsmfEBU  ...            155.0            9300.0\n",
              "7324  1244661  gXlWeLPP  ...            475.0           28500.0\n",
              "\n",
              "[7325 rows x 20 columns]"
            ]
          },
          "metadata": {
            "tags": []
          },
          "execution_count": 44
        }
      ]
    },
    {
      "cell_type": "code",
      "metadata": {
        "colab": {
          "base_uri": "https://localhost:8080/",
          "height": 339
        },
        "id": "DEAEtl1E0snh",
        "outputId": "b5ebfcc8-504b-4d88-ddde-b30e415cd928"
      },
      "source": [
        "\n",
        "plt.figure(figsize=(10,5))\n",
        "plt.xlim(0,15)\n",
        "plt.ylabel('Duration_days')\n",
        "sns.boxplot(x=df1['Duration_days'])\n",
        "plt.show()\n"
      ],
      "execution_count": 58,
      "outputs": [
        {
          "output_type": "display_data",
          "data": {
            "image/png": "[encoded data removed]",
            "text/plain": [
              "<Figure size 720x360 with 1 Axes>"
            ]
          },
          "metadata": {
            "tags": []
          }
        }
      ]
    },
    {
      "cell_type": "code",
      "metadata": {
        "colab": {
          "base_uri": "https://localhost:8080/",
          "height": 339
        },
        "id": "zExc09HH05nv",
        "outputId": "a8030c9e-1e04-4503-c680-251f9d0f3354"
      },
      "source": [
        "\n",
        "plt.figure(figsize=(10,5))\n",
        "plt.xlim(0,4000)\n",
        "plt.ylabel('click_post_count')\n",
        "sns.boxplot(x=df1['click_post_count'])\n",
        "plt.show()\n"
      ],
      "execution_count": 62,
      "outputs": [
        {
          "output_type": "display_data",
          "data": {
            "image/png": "[encoded data removed]",
            "text/plain": [
              "<Figure size 720x360 with 1 Axes>"
            ]
          },
          "metadata": {
            "tags": []
          }
        }
      ]
    },
    {
      "cell_type": "code",
      "metadata": {
        "colab": {
          "base_uri": "https://localhost:8080/",
          "height": 339
        },
        "id": "sQzjw1Ng1U_B",
        "outputId": "c9d9bdef-7c37-4295-b083-8bd59f99efd2"
      },
      "source": [
        "\n",
        "plt.figure(figsize=(10,5))\n",
        "sns.kdeplot(df1['click_post_count'],shade=True)\n",
        "plt.show()\n"
      ],
      "execution_count": 65,
      "outputs": [
        {
          "output_type": "display_data",
          "data": {
            "image/png": "[encoded data removed]",
            "text/plain": [
              "<Figure size 720x360 with 1 Axes>"
            ]
          },
          "metadata": {
            "tags": []
          }
        }
      ]
    },
    {
      "cell_type": "code",
      "metadata": {
        "colab": {
          "base_uri": "https://localhost:8080/",
          "height": 339
        },
        "id": "HzhGUaAY1ZDb",
        "outputId": "836253f5-915f-46ff-b659-057a7adde394"
      },
      "source": [
        "\n",
        "plt.figure(figsize=(10,5))\n",
        "sns.kdeplot(df1['Duration_days'],shade=True)\n",
        "plt.show()\n"
      ],
      "execution_count": 66,
      "outputs": [
        {
          "output_type": "display_data",
          "data": {
            "image/png": "[encoded data removed]",
            "text/plain": [
              "<Figure size 720x360 with 1 Axes>"
            ]
          },
          "metadata": {
            "tags": []
          }
        }
      ]
    },
    {
      "cell_type": "code",
      "metadata": {
        "colab": {
          "base_uri": "https://localhost:8080/",
          "height": 396
        },
        "id": "TzP0DRrd1jrw",
        "outputId": "12d8eea4-96ba-4ea8-adeb-a84a6b16edcb"
      },
      "source": [
        "plt.figure(figsize=(10,5))\n",
        "sns.scatterplot(df1['Duration_days'],df1['click_post_count'])\n",
        "plt.xlim(0,20)\n",
        "plt.ylim(0,1500)\n",
        "plt.show()\n"
      ],
      "execution_count": 85,
      "outputs": [
        {
          "output_type": "stream",
          "text": [
            "/usr/local/lib/python3.7/dist-packages/seaborn/_decorators.py:43: FutureWarning: Pass the following variables as keyword args: x, y. From version 0.12, the only valid positional argument will be `data`, and passing other arguments without an explicit keyword will result in an error or misinterpretation.\n",
            "  FutureWarning\n"
          ],
          "name": "stderr"
        },
        {
          "output_type": "display_data",
          "data": {
            "image/png": "[encoded data removed]",
            "text/plain": [
              "<Figure size 720x360 with 1 Axes>"
            ]
          },
          "metadata": {
            "tags": []
          }
        }
      ]
    },
    {
      "cell_type": "code",
      "metadata": {
        "colab": {
          "base_uri": "https://localhost:8080/",
          "height": 396
        },
        "id": "S1Xox8f02aeL",
        "outputId": "0213727d-6020-49fa-d43e-b33bef16c9ff"
      },
      "source": [
        "plt.figure(figsize=(10,5))\n",
        "sns.scatterplot(df['Duration_minutes'],df1['click_post_count'])\n",
        "plt.xlim(0,20000)\n",
        "plt.ylim(0,1500)\n",
        "plt.show()\n"
      ],
      "execution_count": 86,
      "outputs": [
        {
          "output_type": "stream",
          "text": [
            "/usr/local/lib/python3.7/dist-packages/seaborn/_decorators.py:43: FutureWarning: Pass the following variables as keyword args: x, y. From version 0.12, the only valid positional argument will be `data`, and passing other arguments without an explicit keyword will result in an error or misinterpretation.\n",
            "  FutureWarning\n"
          ],
          "name": "stderr"
        },
        {
          "output_type": "display_data",
          "data": {
            "image/png": "[encoded data removed]",
            "text/plain": [
              "<Figure size 720x360 with 1 Axes>"
            ]
          },
          "metadata": {
            "tags": []
          }
        }
      ]
    }
  ]
}